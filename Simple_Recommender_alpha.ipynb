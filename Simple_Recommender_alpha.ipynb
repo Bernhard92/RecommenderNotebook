{
 "cells": [
  {
   "cell_type": "code",
   "execution_count": 1,
   "metadata": {},
   "outputs": [],
   "source": [
    "import os\n",
    "import numpy as np\n",
    "import pandas as pd\n",
    "pd.options.mode.chained_assignment = None"
   ]
  },
  {
   "cell_type": "code",
   "execution_count": 2,
   "metadata": {},
   "outputs": [],
   "source": [
    "data_path = os.path.join(os.getcwd(), 'data')\n",
    "movies = pd.read_csv(os.path.join(data_path, 'movies_preprocessed.csv'))"
   ]
  },
  {
   "cell_type": "code",
   "execution_count": 3,
   "metadata": {},
   "outputs": [
    {
     "data": {
      "text/html": [
       "<div>\n",
       "<style scoped>\n",
       "    .dataframe tbody tr th:only-of-type {\n",
       "        vertical-align: middle;\n",
       "    }\n",
       "\n",
       "    .dataframe tbody tr th {\n",
       "        vertical-align: top;\n",
       "    }\n",
       "\n",
       "    .dataframe thead th {\n",
       "        text-align: right;\n",
       "    }\n",
       "</style>\n",
       "<table border=\"1\" class=\"dataframe\">\n",
       "  <thead>\n",
       "    <tr style=\"text-align: right;\">\n",
       "      <th></th>\n",
       "      <th>id</th>\n",
       "      <th>imdb_id</th>\n",
       "      <th>overview</th>\n",
       "      <th>popularity</th>\n",
       "      <th>poster_path</th>\n",
       "      <th>runtime</th>\n",
       "      <th>spoken_languages</th>\n",
       "      <th>tagline</th>\n",
       "      <th>title</th>\n",
       "      <th>vote_average</th>\n",
       "      <th>...</th>\n",
       "      <th>suspense</th>\n",
       "      <th>love</th>\n",
       "      <th>female nudity</th>\n",
       "      <th>sport</th>\n",
       "      <th>police</th>\n",
       "      <th>teenager</th>\n",
       "      <th>duringcreditsstinger</th>\n",
       "      <th>sequel</th>\n",
       "      <th>friendship</th>\n",
       "      <th>world war ii</th>\n",
       "    </tr>\n",
       "  </thead>\n",
       "  <tbody>\n",
       "    <tr>\n",
       "      <th>0</th>\n",
       "      <td>862</td>\n",
       "      <td>tt0114709</td>\n",
       "      <td>Led by Woody, Andy's toys live happily in his ...</td>\n",
       "      <td>21.946943</td>\n",
       "      <td>/rhIRbceoE9lR4veEXuwCC2wARtG.jpg</td>\n",
       "      <td>81.0</td>\n",
       "      <td>[{'iso_639_1': 'en', 'name': 'English'}]</td>\n",
       "      <td>NaN</td>\n",
       "      <td>Toy Story</td>\n",
       "      <td>7.7</td>\n",
       "      <td>...</td>\n",
       "      <td>0</td>\n",
       "      <td>0</td>\n",
       "      <td>0</td>\n",
       "      <td>0</td>\n",
       "      <td>0</td>\n",
       "      <td>0</td>\n",
       "      <td>0</td>\n",
       "      <td>0</td>\n",
       "      <td>1</td>\n",
       "      <td>0</td>\n",
       "    </tr>\n",
       "    <tr>\n",
       "      <th>1</th>\n",
       "      <td>8844</td>\n",
       "      <td>tt0113497</td>\n",
       "      <td>When siblings Judy and Peter discover an encha...</td>\n",
       "      <td>17.015539</td>\n",
       "      <td>/vzmL6fP7aPKNKPRTFnZmiUfciyV.jpg</td>\n",
       "      <td>104.0</td>\n",
       "      <td>[{'iso_639_1': 'en', 'name': 'English'}, {'iso...</td>\n",
       "      <td>Roll the dice and unleash the excitement!</td>\n",
       "      <td>Jumanji</td>\n",
       "      <td>6.9</td>\n",
       "      <td>...</td>\n",
       "      <td>0</td>\n",
       "      <td>0</td>\n",
       "      <td>0</td>\n",
       "      <td>0</td>\n",
       "      <td>0</td>\n",
       "      <td>0</td>\n",
       "      <td>0</td>\n",
       "      <td>0</td>\n",
       "      <td>0</td>\n",
       "      <td>0</td>\n",
       "    </tr>\n",
       "  </tbody>\n",
       "</table>\n",
       "<p>2 rows × 65 columns</p>\n",
       "</div>"
      ],
      "text/plain": [
       "     id    imdb_id                                           overview  \\\n",
       "0   862  tt0114709  Led by Woody, Andy's toys live happily in his ...   \n",
       "1  8844  tt0113497  When siblings Judy and Peter discover an encha...   \n",
       "\n",
       "   popularity                       poster_path  runtime  \\\n",
       "0   21.946943  /rhIRbceoE9lR4veEXuwCC2wARtG.jpg     81.0   \n",
       "1   17.015539  /vzmL6fP7aPKNKPRTFnZmiUfciyV.jpg    104.0   \n",
       "\n",
       "                                    spoken_languages  \\\n",
       "0           [{'iso_639_1': 'en', 'name': 'English'}]   \n",
       "1  [{'iso_639_1': 'en', 'name': 'English'}, {'iso...   \n",
       "\n",
       "                                     tagline      title  vote_average  ...  \\\n",
       "0                                        NaN  Toy Story           7.7  ...   \n",
       "1  Roll the dice and unleash the excitement!    Jumanji           6.9  ...   \n",
       "\n",
       "   suspense  love  female nudity  sport  police  teenager  \\\n",
       "0         0     0              0      0       0         0   \n",
       "1         0     0              0      0       0         0   \n",
       "\n",
       "   duringcreditsstinger  sequel  friendship  world war ii  \n",
       "0                     0       0           1             0  \n",
       "1                     0       0           0             0  \n",
       "\n",
       "[2 rows x 65 columns]"
      ]
     },
     "execution_count": 3,
     "metadata": {},
     "output_type": "execute_result"
    }
   ],
   "source": [
    "movies.head(2)"
   ]
  },
  {
   "cell_type": "code",
   "execution_count": 5,
   "metadata": {},
   "outputs": [
    {
     "data": {
      "text/plain": [
       "['id',\n",
       " 'imdb_id',\n",
       " 'overview',\n",
       " 'popularity',\n",
       " 'poster_path',\n",
       " 'runtime',\n",
       " 'spoken_languages',\n",
       " 'tagline',\n",
       " 'title',\n",
       " 'vote_average',\n",
       " 'vote_count',\n",
       " 'Action',\n",
       " 'Adventure',\n",
       " 'Animation',\n",
       " 'Comedy',\n",
       " 'Crime',\n",
       " 'Documentary',\n",
       " 'Drama',\n",
       " 'Family',\n",
       " 'Fantasy',\n",
       " 'Foreign',\n",
       " 'History',\n",
       " 'Horror',\n",
       " 'Music',\n",
       " 'Mystery',\n",
       " 'Romance',\n",
       " 'Science Fiction',\n",
       " 'TV Movie',\n",
       " 'Thriller',\n",
       " 'War',\n",
       " 'Western',\n",
       " 'en',\n",
       " 'fr',\n",
       " 'it',\n",
       " 'ja',\n",
       " 'de',\n",
       " 'es',\n",
       " 'ru',\n",
       " 'release_year',\n",
       " 'star_1',\n",
       " 'star_2',\n",
       " 'star_3',\n",
       " 'director',\n",
       " 'writer',\n",
       " 'producer',\n",
       " 'woman director',\n",
       " 'independent film',\n",
       " 'murder',\n",
       " 'based on novel',\n",
       " 'musical',\n",
       " 'sex',\n",
       " 'violence',\n",
       " 'nudity',\n",
       " 'biography',\n",
       " 'revenge',\n",
       " 'suspense',\n",
       " 'love',\n",
       " 'female nudity',\n",
       " 'sport',\n",
       " 'police',\n",
       " 'teenager',\n",
       " 'duringcreditsstinger',\n",
       " 'sequel',\n",
       " 'friendship',\n",
       " 'world war ii']"
      ]
     },
     "execution_count": 5,
     "metadata": {},
     "output_type": "execute_result"
    }
   ],
   "source": [
    "list(movies)"
   ]
  },
  {
   "cell_type": "markdown",
   "metadata": {},
   "source": [
    "## Simple Recommender"
   ]
  },
  {
   "cell_type": "code",
   "execution_count": 5,
   "metadata": {},
   "outputs": [],
   "source": [
    "class SimpleRecommender():\n",
    "    recommendation = []\n",
    "    popularity_levels =  [5000, 2500, 1000, 100, 10]\n",
    "    recommendation_categories = ['director', 'star_1', 'star_2', 'producer', 'star_3', 'writer']\n",
    "    \n",
    "    def __init__(self, data):\n",
    "        self.data = data\n",
    "        \n",
    "    def recommend_by(self, category, movie_id):\n",
    "        \n",
    "        target = self.data[self.data['id'] == movie_id][category].values[0]\n",
    "        target_movies = self.data[self.data[category] == target]\n",
    "        \n",
    "        for level in self.popularity_levels:\n",
    "            \n",
    "            if len(target_movies[target_movies['vote_count'] > level]) >= 2:\n",
    "                temp = target_movies[target_movies['vote_count'] > level]\n",
    "                temp.sort_values('vote_average', ascending=False, inplace=True)\n",
    "                \n",
    "                if temp.iloc[0]['id'] == movie_id:\n",
    "                    if temp.iloc[1]['id'] not in self.recommendation: \n",
    "                        return temp.iloc[1]['id']\n",
    "                else:\n",
    "                    if temp.iloc[0]['id'] not in self.recommendation: \n",
    "                        return temp.iloc[0]['id'] \n",
    "        return []\n",
    "                \n",
    "                \n",
    "    \n",
    "    def recommend(self, movie_id):\n",
    "        self.recommendation = []\n",
    "        \n",
    "        for category in self.recommendation_categories:\n",
    "            rec = self.recommend_by(category, movie_id)\n",
    "            if rec:\n",
    "                self.recommendation.append(rec)\n",
    "                \n",
    "        return self.recommendation\n",
    "        "
   ]
  },
  {
   "cell_type": "code",
   "execution_count": 6,
   "metadata": {},
   "outputs": [],
   "source": [
    "def translate_id_to_title(ids, data):\n",
    "    titles = []\n",
    "    for i in ids:\n",
    "        titles.append(data[data['id'] == i]['title'].values[0])\n",
    "    return titles"
   ]
  },
  {
   "cell_type": "code",
   "execution_count": 7,
   "metadata": {},
   "outputs": [],
   "source": [
    "sr = SimpleRecommender(movies)"
   ]
  },
  {
   "cell_type": "markdown",
   "metadata": {},
   "source": [
    "## Sample Tests"
   ]
  },
  {
   "cell_type": "code",
   "execution_count": 8,
   "metadata": {},
   "outputs": [
    {
     "data": {
      "text/plain": [
       "['Back to the Future',\n",
       " 'Saving Private Ryan',\n",
       " 'The Princess Bride',\n",
       " 'The Devil Wears Prada',\n",
       " 'Open Season']"
      ]
     },
     "execution_count": 8,
     "metadata": {},
     "output_type": "execute_result"
    }
   ],
   "source": [
    "# 13 == Forrest Gump\n",
    "recommendations = sr.recommend(movie_id=13)\n",
    "translate_id_to_title(recommendations, movies)"
   ]
  },
  {
   "cell_type": "code",
   "execution_count": 9,
   "metadata": {},
   "outputs": [
    {
     "data": {
      "text/plain": [
       "['Iron Man 2',\n",
       " 'The Avengers',\n",
       " 'The Brave One',\n",
       " 'The Amazing Spider-Man 2',\n",
       " 'The Men Who Stare at Goats']"
      ]
     },
     "execution_count": 9,
     "metadata": {},
     "output_type": "execute_result"
    }
   ],
   "source": [
    "# 1726 == Iron Man\n",
    "recommendations = sr.recommend(movie_id=1726)\n",
    "translate_id_to_title(recommendations, movies)"
   ]
  },
  {
   "cell_type": "code",
   "execution_count": 10,
   "metadata": {},
   "outputs": [
    {
     "data": {
      "text/plain": [
       "['Inglourious Basterds',\n",
       " 'Grease',\n",
       " 'Captain America: The Winter Soldier',\n",
       " 'Reservoir Dogs',\n",
       " 'Les Misérables']"
      ]
     },
     "execution_count": 10,
     "metadata": {},
     "output_type": "execute_result"
    }
   ],
   "source": [
    "# 680 == Pulp Fiction\n",
    "recommendations = sr.recommend(movie_id=680)\n",
    "translate_id_to_title(recommendations, movies)"
   ]
  },
  {
   "cell_type": "code",
   "execution_count": 11,
   "metadata": {},
   "outputs": [
    {
     "data": {
      "text/plain": [
       "['Roman Holiday', 'Touch of Evil', 'Zulu', 'Quo Vadis']"
      ]
     },
     "execution_count": 11,
     "metadata": {},
     "output_type": "execute_result"
    }
   ],
   "source": [
    "# 665 == Ben-Hur\n",
    "recommendations = sr.recommend(movie_id=665)\n",
    "translate_id_to_title(recommendations, movies)"
   ]
  },
  {
   "cell_type": "code",
   "execution_count": 12,
   "metadata": {},
   "outputs": [
    {
     "data": {
      "text/plain": [
       "['Absolutely Anything',\n",
       " 'Monty Python and the Holy Grail',\n",
       " 'The Meaning of Life']"
      ]
     },
     "execution_count": 12,
     "metadata": {},
     "output_type": "execute_result"
    }
   ],
   "source": [
    "# 583 == Life of Brian\n",
    "recommendations = sr.recommend(movie_id=583)\n",
    "translate_id_to_title(recommendations, movies)"
   ]
  },
  {
   "cell_type": "code",
   "execution_count": 13,
   "metadata": {},
   "outputs": [
    {
     "data": {
      "text/plain": [
       "['The Wolf of Wall Street',\n",
       " 'GoodFellas',\n",
       " 'Listen to Your Heart',\n",
       " 'The Sting',\n",
       " 'From Dusk Till Dawn',\n",
       " 'American Gigolo']"
      ]
     },
     "execution_count": 13,
     "metadata": {},
     "output_type": "execute_result"
    }
   ],
   "source": [
    "# 103 == Taxi Driver\n",
    "recommendations = sr.recommend(movie_id=103)\n",
    "translate_id_to_title(recommendations, movies)"
   ]
  },
  {
   "cell_type": "code",
   "execution_count": 14,
   "metadata": {},
   "outputs": [
    {
     "data": {
      "text/plain": [
       "['Spirited Away', 'Boiling Point']"
      ]
     },
     "execution_count": 14,
     "metadata": {},
     "output_type": "execute_result"
    }
   ],
   "source": [
    "# 128 == Princess Mononoke\n",
    "recommendations = sr.recommend(movie_id=128)\n",
    "translate_id_to_title(recommendations, movies)"
   ]
  },
  {
   "cell_type": "code",
   "execution_count": 15,
   "metadata": {
    "scrolled": false
   },
   "outputs": [
    {
     "data": {
      "text/html": [
       "<div>\n",
       "<style scoped>\n",
       "    .dataframe tbody tr th:only-of-type {\n",
       "        vertical-align: middle;\n",
       "    }\n",
       "\n",
       "    .dataframe tbody tr th {\n",
       "        vertical-align: top;\n",
       "    }\n",
       "\n",
       "    .dataframe thead th {\n",
       "        text-align: right;\n",
       "    }\n",
       "</style>\n",
       "<table border=\"1\" class=\"dataframe\">\n",
       "  <thead>\n",
       "    <tr style=\"text-align: right;\">\n",
       "      <th></th>\n",
       "      <th>id</th>\n",
       "      <th>imdb_id</th>\n",
       "      <th>overview</th>\n",
       "      <th>popularity</th>\n",
       "      <th>poster_path</th>\n",
       "      <th>runtime</th>\n",
       "      <th>spoken_languages</th>\n",
       "      <th>tagline</th>\n",
       "      <th>title</th>\n",
       "      <th>vote_average</th>\n",
       "      <th>...</th>\n",
       "      <th>de</th>\n",
       "      <th>es</th>\n",
       "      <th>ru</th>\n",
       "      <th>release_year</th>\n",
       "      <th>star_1</th>\n",
       "      <th>star_2</th>\n",
       "      <th>star_3</th>\n",
       "      <th>director</th>\n",
       "      <th>writer</th>\n",
       "      <th>producer</th>\n",
       "    </tr>\n",
       "  </thead>\n",
       "  <tbody>\n",
       "    <tr>\n",
       "      <th>2882</th>\n",
       "      <td>128</td>\n",
       "      <td>tt0119698</td>\n",
       "      <td>Ashitaka, a prince of the disappearing Ainu tr...</td>\n",
       "      <td>17.166725</td>\n",
       "      <td>/gzlJkVfWV5VEG5xK25cvFGJgkDz.jpg</td>\n",
       "      <td>134.0</td>\n",
       "      <td>[{'iso_639_1': 'ja', 'name': '日本語'}]</td>\n",
       "      <td>The Fate Of The World Rests On The Courage Of ...</td>\n",
       "      <td>Princess Mononoke</td>\n",
       "      <td>8.2</td>\n",
       "      <td>...</td>\n",
       "      <td>0</td>\n",
       "      <td>0</td>\n",
       "      <td>0</td>\n",
       "      <td>1997.0</td>\n",
       "      <td>Yōji Matsuda</td>\n",
       "      <td>Yuriko Ishida</td>\n",
       "      <td>Yūko Tanaka</td>\n",
       "      <td>Hayao Miyazaki</td>\n",
       "      <td>NaN</td>\n",
       "      <td>Toshio Suzuki</td>\n",
       "    </tr>\n",
       "  </tbody>\n",
       "</table>\n",
       "<p>1 rows × 45 columns</p>\n",
       "</div>"
      ],
      "text/plain": [
       "       id    imdb_id                                           overview  \\\n",
       "2882  128  tt0119698  Ashitaka, a prince of the disappearing Ainu tr...   \n",
       "\n",
       "      popularity                       poster_path  runtime  \\\n",
       "2882   17.166725  /gzlJkVfWV5VEG5xK25cvFGJgkDz.jpg    134.0   \n",
       "\n",
       "                          spoken_languages  \\\n",
       "2882  [{'iso_639_1': 'ja', 'name': '日本語'}]   \n",
       "\n",
       "                                                tagline              title  \\\n",
       "2882  The Fate Of The World Rests On The Courage Of ...  Princess Mononoke   \n",
       "\n",
       "      vote_average  ...  de  es  ru  release_year        star_1  \\\n",
       "2882           8.2  ...   0   0   0        1997.0  Yōji Matsuda   \n",
       "\n",
       "             star_2       star_3        director  writer       producer  \n",
       "2882  Yuriko Ishida  Yūko Tanaka  Hayao Miyazaki     NaN  Toshio Suzuki  \n",
       "\n",
       "[1 rows x 45 columns]"
      ]
     },
     "execution_count": 15,
     "metadata": {},
     "output_type": "execute_result"
    }
   ],
   "source": [
    "movies[movies['title'] == 'Princess Mononoke']"
   ]
  },
  {
   "cell_type": "code",
   "execution_count": 12,
   "metadata": {},
   "outputs": [
    {
     "data": {
      "text/plain": [
       "(46164, 65)"
      ]
     },
     "execution_count": 12,
     "metadata": {},
     "output_type": "execute_result"
    }
   ],
   "source": [
    "movies.shape"
   ]
  },
  {
   "cell_type": "code",
   "execution_count": null,
   "metadata": {},
   "outputs": [],
   "source": []
  }
 ],
 "metadata": {
  "kernelspec": {
   "display_name": "Python 3",
   "language": "python",
   "name": "python3"
  },
  "language_info": {
   "codemirror_mode": {
    "name": "ipython",
    "version": 3
   },
   "file_extension": ".py",
   "mimetype": "text/x-python",
   "name": "python",
   "nbconvert_exporter": "python",
   "pygments_lexer": "ipython3",
   "version": "3.7.3"
  },
  "toc": {
   "colors": {
    "hover_highlight": "#DAA520",
    "running_highlight": "#FF0000",
    "selected_highlight": "#FFD700"
   },
   "moveMenuLeft": true,
   "nav_menu": {
    "height": "48px",
    "width": "252px"
   },
   "navigate_menu": true,
   "number_sections": false,
   "sideBar": true,
   "threshold": 4,
   "toc_cell": false,
   "toc_section_display": "block",
   "toc_window_display": false,
   "widenNotebook": false
  }
 },
 "nbformat": 4,
 "nbformat_minor": 2
}
