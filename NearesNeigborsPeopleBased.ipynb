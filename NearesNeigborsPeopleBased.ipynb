{
 "cells": [
  {
   "cell_type": "markdown",
   "metadata": {},
   "source": [
    "# Nearest Neighbor Recommender: People behind Movies"
   ]
  },
  {
   "cell_type": "code",
   "execution_count": 12,
   "metadata": {},
   "outputs": [],
   "source": [
    "import os\n",
    "import numpy as np\n",
    "import pandas as pd\n",
    "pd.options.mode.chained_assignment = None\n",
    "pd.set_option('display.max_columns', 600)\n",
    "from sklearn import preprocessing\n",
    "from sklearn.neighbors import NearestNeighbors\n",
    "from sklearn.preprocessing import MultiLabelBinarizer"
   ]
  },
  {
   "cell_type": "code",
   "execution_count": 13,
   "metadata": {},
   "outputs": [],
   "source": [
    "data_path = os.path.join(os.getcwd(), 'data')\n",
    "movies = pd.read_csv(os.path.join(data_path, 'movies_preprocessed.csv'))\n",
    "movies = movies.fillna(\"\")"
   ]
  },
  {
   "cell_type": "markdown",
   "metadata": {},
   "source": [
    "### Remove unimportant features"
   ]
  },
  {
   "cell_type": "code",
   "execution_count": 14,
   "metadata": {},
   "outputs": [],
   "source": [
    "features = ['id','title','star_1','star_2', 'star_3', 'writer', 'producer', 'director', 'Action', 'Adventure', 'Animation', 'Comedy', 'Crime','Documentary', 'Drama', 'Family', 'Fantasy', 'Foreign', 'History', 'Horror', 'Music', 'Mystery', 'Romance', 'Science Fiction', 'TV Movie', 'Thriller', 'War', 'Western','woman director', 'independent film', 'murder', 'based on novel', 'musical', 'sex', 'violence', 'nudity', 'biography', 'revenge', 'suspense', 'love', 'female nudity', 'sport', 'police', 'teenager', 'duringcreditsstinger', 'sequel', 'friendship', 'world war ii']\n",
    "movies = movies[features]"
   ]
  },
  {
   "cell_type": "markdown",
   "metadata": {},
   "source": [
    "### Remove unimportant actors"
   ]
  },
  {
   "cell_type": "code",
   "execution_count": 15,
   "metadata": {},
   "outputs": [],
   "source": [
    "def remove_unimportant_items(movie_dataset, column, file, top, filter_=True):\n",
    "    popular_items = pd.read_json(os.path.join(data_path, file))[:top]\n",
    "        \n",
    "    #set all non popular actors null\n",
    "    for idx, movie in movie_dataset.iterrows():\n",
    "        if(filter_ and (not any(popular_items['name'] == movie[column]))):\n",
    "            movie_dataset.at[idx, column] = []\n",
    "        else:\n",
    "            movie_dataset.at[idx, column] = [movie_dataset.at[idx, column]]\n",
    "            \n",
    "    return movie_dataset"
   ]
  },
  {
   "cell_type": "code",
   "execution_count": 17,
   "metadata": {},
   "outputs": [],
   "source": [
    "#transform actors\n",
    "FILTER_DATA = False\n",
    "movies = remove_unimportant_items(movies, 'star_1', 'popular_actors.json', top=500, filter_ = FILTER_DATA)\n",
    "movies = remove_unimportant_items(movies, 'star_2', 'popular_actors.json', top=300, filter_ = FILTER_DATA)\n",
    "movies = remove_unimportant_items(movies, 'star_3', 'popular_actors.json', top=100, filter_ = FILTER_DATA)"
   ]
  },
  {
   "cell_type": "code",
   "execution_count": 18,
   "metadata": {},
   "outputs": [],
   "source": [
    "#transform writers\n",
    "movies = remove_unimportant_items(movies, 'writer', 'top_writer.json', top=14)"
   ]
  },
  {
   "cell_type": "code",
   "execution_count": 19,
   "metadata": {},
   "outputs": [],
   "source": [
    "#transform directors\n",
    "movies = remove_unimportant_items(movies, 'director', 'top_directors.json', top=100)"
   ]
  },
  {
   "cell_type": "code",
   "execution_count": 20,
   "metadata": {},
   "outputs": [],
   "source": [
    "#transform producers\n",
    "movies = remove_unimportant_items(movies, 'producer', 'top_producers.json', top=12)"
   ]
  },
  {
   "cell_type": "markdown",
   "metadata": {},
   "source": [
    "### Merge Actor columns"
   ]
  },
  {
   "cell_type": "code",
   "execution_count": 21,
   "metadata": {},
   "outputs": [],
   "source": [
    "movies['actor'] = movies['star_1']+movies['star_2']+movies['star_3']\n",
    "\n",
    "del movies['star_1']\n",
    "del movies['star_2']\n",
    "del movies['star_3']"
   ]
  },
  {
   "cell_type": "markdown",
   "metadata": {},
   "source": [
    "### Merge Writers, Producers and Directors"
   ]
  },
  {
   "cell_type": "code",
   "execution_count": 22,
   "metadata": {},
   "outputs": [],
   "source": [
    "movies['director'] = movies['writer'] + movies['director'] + movies['producer']\n",
    "\n",
    "del movies['producer']\n",
    "del movies['writer']"
   ]
  },
  {
   "cell_type": "markdown",
   "metadata": {},
   "source": [
    "### Transforming features"
   ]
  },
  {
   "cell_type": "code",
   "execution_count": 25,
   "metadata": {},
   "outputs": [],
   "source": [
    "def feature_one_hot(movie_dataset, column): \n",
    "    'Returns the given movie dataset with a transformed to one-hot encoded genre column.'\n",
    "\n",
    "    # MultiLabelBinarizer is a very fast solution for one hot encoding on large dataframes\n",
    "    mlb = MultiLabelBinarizer()\n",
    "        \n",
    "    one_hot_genre = pd.DataFrame(mlb.fit_transform(movie_dataset[column]),\n",
    "                                 columns= [column + ' ' + str(class_) for class_ in mlb.classes_], \n",
    "                                 index=movie_dataset[column].index)\n",
    "\n",
    "    movie_dataset = pd.concat([movie_dataset, one_hot_genre], sort=False, axis=1)\n",
    "    movie_dataset.drop(column, axis=1)\n",
    "    \n",
    "    return movie_dataset"
   ]
  },
  {
   "cell_type": "markdown",
   "metadata": {},
   "source": [
    "### A: Actors separated"
   ]
  },
  {
   "cell_type": "code",
   "execution_count": 26,
   "metadata": {},
   "outputs": [
    {
     "ename": "KeyError",
     "evalue": "'star_1'",
     "output_type": "error",
     "traceback": [
      "\u001b[1;31m---------------------------------------------------------------------------\u001b[0m",
      "\u001b[1;31mKeyError\u001b[0m                                  Traceback (most recent call last)",
      "\u001b[1;32m~\\AppData\\Local\\Continuum\\miniconda3\\envs\\ml\\lib\\site-packages\\pandas\\core\\indexes\\base.py\u001b[0m in \u001b[0;36mget_loc\u001b[1;34m(self, key, method, tolerance)\u001b[0m\n\u001b[0;32m   2656\u001b[0m             \u001b[1;32mtry\u001b[0m\u001b[1;33m:\u001b[0m\u001b[1;33m\u001b[0m\u001b[1;33m\u001b[0m\u001b[0m\n\u001b[1;32m-> 2657\u001b[1;33m                 \u001b[1;32mreturn\u001b[0m \u001b[0mself\u001b[0m\u001b[1;33m.\u001b[0m\u001b[0m_engine\u001b[0m\u001b[1;33m.\u001b[0m\u001b[0mget_loc\u001b[0m\u001b[1;33m(\u001b[0m\u001b[0mkey\u001b[0m\u001b[1;33m)\u001b[0m\u001b[1;33m\u001b[0m\u001b[1;33m\u001b[0m\u001b[0m\n\u001b[0m\u001b[0;32m   2658\u001b[0m             \u001b[1;32mexcept\u001b[0m \u001b[0mKeyError\u001b[0m\u001b[1;33m:\u001b[0m\u001b[1;33m\u001b[0m\u001b[1;33m\u001b[0m\u001b[0m\n",
      "\u001b[1;32mpandas/_libs/index.pyx\u001b[0m in \u001b[0;36mpandas._libs.index.IndexEngine.get_loc\u001b[1;34m()\u001b[0m\n",
      "\u001b[1;32mpandas/_libs/index.pyx\u001b[0m in \u001b[0;36mpandas._libs.index.IndexEngine.get_loc\u001b[1;34m()\u001b[0m\n",
      "\u001b[1;32mpandas/_libs/hashtable_class_helper.pxi\u001b[0m in \u001b[0;36mpandas._libs.hashtable.PyObjectHashTable.get_item\u001b[1;34m()\u001b[0m\n",
      "\u001b[1;32mpandas/_libs/hashtable_class_helper.pxi\u001b[0m in \u001b[0;36mpandas._libs.hashtable.PyObjectHashTable.get_item\u001b[1;34m()\u001b[0m\n",
      "\u001b[1;31mKeyError\u001b[0m: 'star_1'",
      "\nDuring handling of the above exception, another exception occurred:\n",
      "\u001b[1;31mKeyError\u001b[0m                                  Traceback (most recent call last)",
      "\u001b[1;32m<ipython-input-26-bccab4572453>\u001b[0m in \u001b[0;36m<module>\u001b[1;34m\u001b[0m\n\u001b[0;32m      1\u001b[0m \u001b[1;31m#Actors\u001b[0m\u001b[1;33m\u001b[0m\u001b[1;33m\u001b[0m\u001b[1;33m\u001b[0m\u001b[0m\n\u001b[1;32m----> 2\u001b[1;33m \u001b[0mmovies\u001b[0m \u001b[1;33m=\u001b[0m \u001b[0mfeature_one_hot\u001b[0m\u001b[1;33m(\u001b[0m\u001b[0mmovies\u001b[0m\u001b[1;33m,\u001b[0m \u001b[1;34m'star_1'\u001b[0m\u001b[1;33m)\u001b[0m\u001b[1;33m\u001b[0m\u001b[1;33m\u001b[0m\u001b[0m\n\u001b[0m\u001b[0;32m      3\u001b[0m \u001b[0mmovies\u001b[0m \u001b[1;33m=\u001b[0m \u001b[0mfeature_one_hot\u001b[0m\u001b[1;33m(\u001b[0m\u001b[0mmovies\u001b[0m\u001b[1;33m,\u001b[0m \u001b[1;34m'star_2'\u001b[0m\u001b[1;33m)\u001b[0m\u001b[1;33m\u001b[0m\u001b[1;33m\u001b[0m\u001b[0m\n\u001b[0;32m      4\u001b[0m \u001b[0mmovies\u001b[0m \u001b[1;33m=\u001b[0m \u001b[0mfeature_one_hot\u001b[0m\u001b[1;33m(\u001b[0m\u001b[0mmovies\u001b[0m\u001b[1;33m,\u001b[0m \u001b[1;34m'star_3'\u001b[0m\u001b[1;33m)\u001b[0m\u001b[1;33m\u001b[0m\u001b[1;33m\u001b[0m\u001b[0m\n\u001b[0;32m      5\u001b[0m \u001b[1;32mdel\u001b[0m \u001b[0mmovies\u001b[0m\u001b[1;33m[\u001b[0m\u001b[1;34m'star_1'\u001b[0m\u001b[1;33m]\u001b[0m\u001b[1;33m\u001b[0m\u001b[1;33m\u001b[0m\u001b[0m\n",
      "\u001b[1;32m<ipython-input-25-6ef8a881fa25>\u001b[0m in \u001b[0;36mfeature_one_hot\u001b[1;34m(movie_dataset, column)\u001b[0m\n\u001b[0;32m      5\u001b[0m     \u001b[0mmlb\u001b[0m \u001b[1;33m=\u001b[0m \u001b[0mMultiLabelBinarizer\u001b[0m\u001b[1;33m(\u001b[0m\u001b[1;33m)\u001b[0m\u001b[1;33m\u001b[0m\u001b[1;33m\u001b[0m\u001b[0m\n\u001b[0;32m      6\u001b[0m \u001b[1;33m\u001b[0m\u001b[0m\n\u001b[1;32m----> 7\u001b[1;33m     one_hot_genre = pd.DataFrame(mlb.fit_transform(movie_dataset[column]),\n\u001b[0m\u001b[0;32m      8\u001b[0m                                  \u001b[0mcolumns\u001b[0m\u001b[1;33m=\u001b[0m \u001b[1;33m[\u001b[0m\u001b[0mcolumn\u001b[0m \u001b[1;33m+\u001b[0m \u001b[1;34m' '\u001b[0m \u001b[1;33m+\u001b[0m \u001b[0mstr\u001b[0m\u001b[1;33m(\u001b[0m\u001b[0mclass_\u001b[0m\u001b[1;33m)\u001b[0m \u001b[1;32mfor\u001b[0m \u001b[0mclass_\u001b[0m \u001b[1;32min\u001b[0m \u001b[0mmlb\u001b[0m\u001b[1;33m.\u001b[0m\u001b[0mclasses_\u001b[0m\u001b[1;33m]\u001b[0m\u001b[1;33m,\u001b[0m\u001b[1;33m\u001b[0m\u001b[1;33m\u001b[0m\u001b[0m\n\u001b[0;32m      9\u001b[0m                                  index=movie_dataset[column].index)\n",
      "\u001b[1;32m~\\AppData\\Local\\Continuum\\miniconda3\\envs\\ml\\lib\\site-packages\\pandas\\core\\frame.py\u001b[0m in \u001b[0;36m__getitem__\u001b[1;34m(self, key)\u001b[0m\n\u001b[0;32m   2925\u001b[0m             \u001b[1;32mif\u001b[0m \u001b[0mself\u001b[0m\u001b[1;33m.\u001b[0m\u001b[0mcolumns\u001b[0m\u001b[1;33m.\u001b[0m\u001b[0mnlevels\u001b[0m \u001b[1;33m>\u001b[0m \u001b[1;36m1\u001b[0m\u001b[1;33m:\u001b[0m\u001b[1;33m\u001b[0m\u001b[1;33m\u001b[0m\u001b[0m\n\u001b[0;32m   2926\u001b[0m                 \u001b[1;32mreturn\u001b[0m \u001b[0mself\u001b[0m\u001b[1;33m.\u001b[0m\u001b[0m_getitem_multilevel\u001b[0m\u001b[1;33m(\u001b[0m\u001b[0mkey\u001b[0m\u001b[1;33m)\u001b[0m\u001b[1;33m\u001b[0m\u001b[1;33m\u001b[0m\u001b[0m\n\u001b[1;32m-> 2927\u001b[1;33m             \u001b[0mindexer\u001b[0m \u001b[1;33m=\u001b[0m \u001b[0mself\u001b[0m\u001b[1;33m.\u001b[0m\u001b[0mcolumns\u001b[0m\u001b[1;33m.\u001b[0m\u001b[0mget_loc\u001b[0m\u001b[1;33m(\u001b[0m\u001b[0mkey\u001b[0m\u001b[1;33m)\u001b[0m\u001b[1;33m\u001b[0m\u001b[1;33m\u001b[0m\u001b[0m\n\u001b[0m\u001b[0;32m   2928\u001b[0m             \u001b[1;32mif\u001b[0m \u001b[0mis_integer\u001b[0m\u001b[1;33m(\u001b[0m\u001b[0mindexer\u001b[0m\u001b[1;33m)\u001b[0m\u001b[1;33m:\u001b[0m\u001b[1;33m\u001b[0m\u001b[1;33m\u001b[0m\u001b[0m\n\u001b[0;32m   2929\u001b[0m                 \u001b[0mindexer\u001b[0m \u001b[1;33m=\u001b[0m \u001b[1;33m[\u001b[0m\u001b[0mindexer\u001b[0m\u001b[1;33m]\u001b[0m\u001b[1;33m\u001b[0m\u001b[1;33m\u001b[0m\u001b[0m\n",
      "\u001b[1;32m~\\AppData\\Local\\Continuum\\miniconda3\\envs\\ml\\lib\\site-packages\\pandas\\core\\indexes\\base.py\u001b[0m in \u001b[0;36mget_loc\u001b[1;34m(self, key, method, tolerance)\u001b[0m\n\u001b[0;32m   2657\u001b[0m                 \u001b[1;32mreturn\u001b[0m \u001b[0mself\u001b[0m\u001b[1;33m.\u001b[0m\u001b[0m_engine\u001b[0m\u001b[1;33m.\u001b[0m\u001b[0mget_loc\u001b[0m\u001b[1;33m(\u001b[0m\u001b[0mkey\u001b[0m\u001b[1;33m)\u001b[0m\u001b[1;33m\u001b[0m\u001b[1;33m\u001b[0m\u001b[0m\n\u001b[0;32m   2658\u001b[0m             \u001b[1;32mexcept\u001b[0m \u001b[0mKeyError\u001b[0m\u001b[1;33m:\u001b[0m\u001b[1;33m\u001b[0m\u001b[1;33m\u001b[0m\u001b[0m\n\u001b[1;32m-> 2659\u001b[1;33m                 \u001b[1;32mreturn\u001b[0m \u001b[0mself\u001b[0m\u001b[1;33m.\u001b[0m\u001b[0m_engine\u001b[0m\u001b[1;33m.\u001b[0m\u001b[0mget_loc\u001b[0m\u001b[1;33m(\u001b[0m\u001b[0mself\u001b[0m\u001b[1;33m.\u001b[0m\u001b[0m_maybe_cast_indexer\u001b[0m\u001b[1;33m(\u001b[0m\u001b[0mkey\u001b[0m\u001b[1;33m)\u001b[0m\u001b[1;33m)\u001b[0m\u001b[1;33m\u001b[0m\u001b[1;33m\u001b[0m\u001b[0m\n\u001b[0m\u001b[0;32m   2660\u001b[0m         \u001b[0mindexer\u001b[0m \u001b[1;33m=\u001b[0m \u001b[0mself\u001b[0m\u001b[1;33m.\u001b[0m\u001b[0mget_indexer\u001b[0m\u001b[1;33m(\u001b[0m\u001b[1;33m[\u001b[0m\u001b[0mkey\u001b[0m\u001b[1;33m]\u001b[0m\u001b[1;33m,\u001b[0m \u001b[0mmethod\u001b[0m\u001b[1;33m=\u001b[0m\u001b[0mmethod\u001b[0m\u001b[1;33m,\u001b[0m \u001b[0mtolerance\u001b[0m\u001b[1;33m=\u001b[0m\u001b[0mtolerance\u001b[0m\u001b[1;33m)\u001b[0m\u001b[1;33m\u001b[0m\u001b[1;33m\u001b[0m\u001b[0m\n\u001b[0;32m   2661\u001b[0m         \u001b[1;32mif\u001b[0m \u001b[0mindexer\u001b[0m\u001b[1;33m.\u001b[0m\u001b[0mndim\u001b[0m \u001b[1;33m>\u001b[0m \u001b[1;36m1\u001b[0m \u001b[1;32mor\u001b[0m \u001b[0mindexer\u001b[0m\u001b[1;33m.\u001b[0m\u001b[0msize\u001b[0m \u001b[1;33m>\u001b[0m \u001b[1;36m1\u001b[0m\u001b[1;33m:\u001b[0m\u001b[1;33m\u001b[0m\u001b[1;33m\u001b[0m\u001b[0m\n",
      "\u001b[1;32mpandas/_libs/index.pyx\u001b[0m in \u001b[0;36mpandas._libs.index.IndexEngine.get_loc\u001b[1;34m()\u001b[0m\n",
      "\u001b[1;32mpandas/_libs/index.pyx\u001b[0m in \u001b[0;36mpandas._libs.index.IndexEngine.get_loc\u001b[1;34m()\u001b[0m\n",
      "\u001b[1;32mpandas/_libs/hashtable_class_helper.pxi\u001b[0m in \u001b[0;36mpandas._libs.hashtable.PyObjectHashTable.get_item\u001b[1;34m()\u001b[0m\n",
      "\u001b[1;32mpandas/_libs/hashtable_class_helper.pxi\u001b[0m in \u001b[0;36mpandas._libs.hashtable.PyObjectHashTable.get_item\u001b[1;34m()\u001b[0m\n",
      "\u001b[1;31mKeyError\u001b[0m: 'star_1'"
     ]
    }
   ],
   "source": [
    "#Actors\n",
    "movies = feature_one_hot(movies, 'star_1')\n",
    "movies = feature_one_hot(movies, 'star_2')\n",
    "movies = feature_one_hot(movies, 'star_3')\n",
    "del movies['star_1']\n",
    "del movies['star_2']\n",
    "del movies['star_3']"
   ]
  },
  {
   "cell_type": "markdown",
   "metadata": {},
   "source": [
    "### B: Actors together"
   ]
  },
  {
   "cell_type": "code",
   "execution_count": 416,
   "metadata": {},
   "outputs": [],
   "source": [
    "movies = feature_one_hot(movies, 'actor')\n",
    "del movies['actor']"
   ]
  },
  {
   "cell_type": "markdown",
   "metadata": {},
   "source": [
    "### Binarize all the other stuff"
   ]
  },
  {
   "cell_type": "code",
   "execution_count": 400,
   "metadata": {},
   "outputs": [],
   "source": [
    "#Writers\n",
    "movies = feature_one_hot(movies, 'writer')\n",
    "del movies['writer']"
   ]
  },
  {
   "cell_type": "code",
   "execution_count": 420,
   "metadata": {},
   "outputs": [],
   "source": [
    "#Directors\n",
    "movies = feature_one_hot(movies, 'director')\n",
    "del movies['director']"
   ]
  },
  {
   "cell_type": "code",
   "execution_count": 417,
   "metadata": {
    "collapsed": true
   },
   "outputs": [
    {
     "ename": "KeyError",
     "evalue": "'producer'",
     "output_type": "error",
     "traceback": [
      "\u001b[1;31m---------------------------------------------------------------------------\u001b[0m",
      "\u001b[1;31mKeyError\u001b[0m                                  Traceback (most recent call last)",
      "\u001b[1;32m~\\AppData\\Local\\Continuum\\miniconda3\\envs\\ml\\lib\\site-packages\\pandas\\core\\indexes\\base.py\u001b[0m in \u001b[0;36mget_loc\u001b[1;34m(self, key, method, tolerance)\u001b[0m\n\u001b[0;32m   2656\u001b[0m             \u001b[1;32mtry\u001b[0m\u001b[1;33m:\u001b[0m\u001b[1;33m\u001b[0m\u001b[1;33m\u001b[0m\u001b[0m\n\u001b[1;32m-> 2657\u001b[1;33m                 \u001b[1;32mreturn\u001b[0m \u001b[0mself\u001b[0m\u001b[1;33m.\u001b[0m\u001b[0m_engine\u001b[0m\u001b[1;33m.\u001b[0m\u001b[0mget_loc\u001b[0m\u001b[1;33m(\u001b[0m\u001b[0mkey\u001b[0m\u001b[1;33m)\u001b[0m\u001b[1;33m\u001b[0m\u001b[1;33m\u001b[0m\u001b[0m\n\u001b[0m\u001b[0;32m   2658\u001b[0m             \u001b[1;32mexcept\u001b[0m \u001b[0mKeyError\u001b[0m\u001b[1;33m:\u001b[0m\u001b[1;33m\u001b[0m\u001b[1;33m\u001b[0m\u001b[0m\n",
      "\u001b[1;32mpandas/_libs/index.pyx\u001b[0m in \u001b[0;36mpandas._libs.index.IndexEngine.get_loc\u001b[1;34m()\u001b[0m\n",
      "\u001b[1;32mpandas/_libs/index.pyx\u001b[0m in \u001b[0;36mpandas._libs.index.IndexEngine.get_loc\u001b[1;34m()\u001b[0m\n",
      "\u001b[1;32mpandas/_libs/hashtable_class_helper.pxi\u001b[0m in \u001b[0;36mpandas._libs.hashtable.PyObjectHashTable.get_item\u001b[1;34m()\u001b[0m\n",
      "\u001b[1;32mpandas/_libs/hashtable_class_helper.pxi\u001b[0m in \u001b[0;36mpandas._libs.hashtable.PyObjectHashTable.get_item\u001b[1;34m()\u001b[0m\n",
      "\u001b[1;31mKeyError\u001b[0m: 'producer'",
      "\nDuring handling of the above exception, another exception occurred:\n",
      "\u001b[1;31mKeyError\u001b[0m                                  Traceback (most recent call last)",
      "\u001b[1;32m<ipython-input-417-f81691a0ff48>\u001b[0m in \u001b[0;36m<module>\u001b[1;34m\u001b[0m\n\u001b[0;32m      1\u001b[0m \u001b[1;31m#Producers\u001b[0m\u001b[1;33m\u001b[0m\u001b[1;33m\u001b[0m\u001b[1;33m\u001b[0m\u001b[0m\n\u001b[1;32m----> 2\u001b[1;33m \u001b[0mmovies\u001b[0m \u001b[1;33m=\u001b[0m \u001b[0mfeature_one_hot\u001b[0m\u001b[1;33m(\u001b[0m\u001b[0mmovies\u001b[0m\u001b[1;33m,\u001b[0m \u001b[1;34m'producer'\u001b[0m\u001b[1;33m)\u001b[0m\u001b[1;33m\u001b[0m\u001b[1;33m\u001b[0m\u001b[0m\n\u001b[0m\u001b[0;32m      3\u001b[0m \u001b[1;32mdel\u001b[0m \u001b[0mmovies\u001b[0m\u001b[1;33m[\u001b[0m\u001b[1;34m'producer'\u001b[0m\u001b[1;33m]\u001b[0m\u001b[1;33m\u001b[0m\u001b[1;33m\u001b[0m\u001b[0m\n",
      "\u001b[1;32m<ipython-input-415-6ef8a881fa25>\u001b[0m in \u001b[0;36mfeature_one_hot\u001b[1;34m(movie_dataset, column)\u001b[0m\n\u001b[0;32m      5\u001b[0m     \u001b[0mmlb\u001b[0m \u001b[1;33m=\u001b[0m \u001b[0mMultiLabelBinarizer\u001b[0m\u001b[1;33m(\u001b[0m\u001b[1;33m)\u001b[0m\u001b[1;33m\u001b[0m\u001b[1;33m\u001b[0m\u001b[0m\n\u001b[0;32m      6\u001b[0m \u001b[1;33m\u001b[0m\u001b[0m\n\u001b[1;32m----> 7\u001b[1;33m     one_hot_genre = pd.DataFrame(mlb.fit_transform(movie_dataset[column]),\n\u001b[0m\u001b[0;32m      8\u001b[0m                                  \u001b[0mcolumns\u001b[0m\u001b[1;33m=\u001b[0m \u001b[1;33m[\u001b[0m\u001b[0mcolumn\u001b[0m \u001b[1;33m+\u001b[0m \u001b[1;34m' '\u001b[0m \u001b[1;33m+\u001b[0m \u001b[0mstr\u001b[0m\u001b[1;33m(\u001b[0m\u001b[0mclass_\u001b[0m\u001b[1;33m)\u001b[0m \u001b[1;32mfor\u001b[0m \u001b[0mclass_\u001b[0m \u001b[1;32min\u001b[0m \u001b[0mmlb\u001b[0m\u001b[1;33m.\u001b[0m\u001b[0mclasses_\u001b[0m\u001b[1;33m]\u001b[0m\u001b[1;33m,\u001b[0m\u001b[1;33m\u001b[0m\u001b[1;33m\u001b[0m\u001b[0m\n\u001b[0;32m      9\u001b[0m                                  index=movie_dataset[column].index)\n",
      "\u001b[1;32m~\\AppData\\Local\\Continuum\\miniconda3\\envs\\ml\\lib\\site-packages\\pandas\\core\\frame.py\u001b[0m in \u001b[0;36m__getitem__\u001b[1;34m(self, key)\u001b[0m\n\u001b[0;32m   2925\u001b[0m             \u001b[1;32mif\u001b[0m \u001b[0mself\u001b[0m\u001b[1;33m.\u001b[0m\u001b[0mcolumns\u001b[0m\u001b[1;33m.\u001b[0m\u001b[0mnlevels\u001b[0m \u001b[1;33m>\u001b[0m \u001b[1;36m1\u001b[0m\u001b[1;33m:\u001b[0m\u001b[1;33m\u001b[0m\u001b[1;33m\u001b[0m\u001b[0m\n\u001b[0;32m   2926\u001b[0m                 \u001b[1;32mreturn\u001b[0m \u001b[0mself\u001b[0m\u001b[1;33m.\u001b[0m\u001b[0m_getitem_multilevel\u001b[0m\u001b[1;33m(\u001b[0m\u001b[0mkey\u001b[0m\u001b[1;33m)\u001b[0m\u001b[1;33m\u001b[0m\u001b[1;33m\u001b[0m\u001b[0m\n\u001b[1;32m-> 2927\u001b[1;33m             \u001b[0mindexer\u001b[0m \u001b[1;33m=\u001b[0m \u001b[0mself\u001b[0m\u001b[1;33m.\u001b[0m\u001b[0mcolumns\u001b[0m\u001b[1;33m.\u001b[0m\u001b[0mget_loc\u001b[0m\u001b[1;33m(\u001b[0m\u001b[0mkey\u001b[0m\u001b[1;33m)\u001b[0m\u001b[1;33m\u001b[0m\u001b[1;33m\u001b[0m\u001b[0m\n\u001b[0m\u001b[0;32m   2928\u001b[0m             \u001b[1;32mif\u001b[0m \u001b[0mis_integer\u001b[0m\u001b[1;33m(\u001b[0m\u001b[0mindexer\u001b[0m\u001b[1;33m)\u001b[0m\u001b[1;33m:\u001b[0m\u001b[1;33m\u001b[0m\u001b[1;33m\u001b[0m\u001b[0m\n\u001b[0;32m   2929\u001b[0m                 \u001b[0mindexer\u001b[0m \u001b[1;33m=\u001b[0m \u001b[1;33m[\u001b[0m\u001b[0mindexer\u001b[0m\u001b[1;33m]\u001b[0m\u001b[1;33m\u001b[0m\u001b[1;33m\u001b[0m\u001b[0m\n",
      "\u001b[1;32m~\\AppData\\Local\\Continuum\\miniconda3\\envs\\ml\\lib\\site-packages\\pandas\\core\\indexes\\base.py\u001b[0m in \u001b[0;36mget_loc\u001b[1;34m(self, key, method, tolerance)\u001b[0m\n\u001b[0;32m   2657\u001b[0m                 \u001b[1;32mreturn\u001b[0m \u001b[0mself\u001b[0m\u001b[1;33m.\u001b[0m\u001b[0m_engine\u001b[0m\u001b[1;33m.\u001b[0m\u001b[0mget_loc\u001b[0m\u001b[1;33m(\u001b[0m\u001b[0mkey\u001b[0m\u001b[1;33m)\u001b[0m\u001b[1;33m\u001b[0m\u001b[1;33m\u001b[0m\u001b[0m\n\u001b[0;32m   2658\u001b[0m             \u001b[1;32mexcept\u001b[0m \u001b[0mKeyError\u001b[0m\u001b[1;33m:\u001b[0m\u001b[1;33m\u001b[0m\u001b[1;33m\u001b[0m\u001b[0m\n\u001b[1;32m-> 2659\u001b[1;33m                 \u001b[1;32mreturn\u001b[0m \u001b[0mself\u001b[0m\u001b[1;33m.\u001b[0m\u001b[0m_engine\u001b[0m\u001b[1;33m.\u001b[0m\u001b[0mget_loc\u001b[0m\u001b[1;33m(\u001b[0m\u001b[0mself\u001b[0m\u001b[1;33m.\u001b[0m\u001b[0m_maybe_cast_indexer\u001b[0m\u001b[1;33m(\u001b[0m\u001b[0mkey\u001b[0m\u001b[1;33m)\u001b[0m\u001b[1;33m)\u001b[0m\u001b[1;33m\u001b[0m\u001b[1;33m\u001b[0m\u001b[0m\n\u001b[0m\u001b[0;32m   2660\u001b[0m         \u001b[0mindexer\u001b[0m \u001b[1;33m=\u001b[0m \u001b[0mself\u001b[0m\u001b[1;33m.\u001b[0m\u001b[0mget_indexer\u001b[0m\u001b[1;33m(\u001b[0m\u001b[1;33m[\u001b[0m\u001b[0mkey\u001b[0m\u001b[1;33m]\u001b[0m\u001b[1;33m,\u001b[0m \u001b[0mmethod\u001b[0m\u001b[1;33m=\u001b[0m\u001b[0mmethod\u001b[0m\u001b[1;33m,\u001b[0m \u001b[0mtolerance\u001b[0m\u001b[1;33m=\u001b[0m\u001b[0mtolerance\u001b[0m\u001b[1;33m)\u001b[0m\u001b[1;33m\u001b[0m\u001b[1;33m\u001b[0m\u001b[0m\n\u001b[0;32m   2661\u001b[0m         \u001b[1;32mif\u001b[0m \u001b[0mindexer\u001b[0m\u001b[1;33m.\u001b[0m\u001b[0mndim\u001b[0m \u001b[1;33m>\u001b[0m \u001b[1;36m1\u001b[0m \u001b[1;32mor\u001b[0m \u001b[0mindexer\u001b[0m\u001b[1;33m.\u001b[0m\u001b[0msize\u001b[0m \u001b[1;33m>\u001b[0m \u001b[1;36m1\u001b[0m\u001b[1;33m:\u001b[0m\u001b[1;33m\u001b[0m\u001b[1;33m\u001b[0m\u001b[0m\n",
      "\u001b[1;32mpandas/_libs/index.pyx\u001b[0m in \u001b[0;36mpandas._libs.index.IndexEngine.get_loc\u001b[1;34m()\u001b[0m\n",
      "\u001b[1;32mpandas/_libs/index.pyx\u001b[0m in \u001b[0;36mpandas._libs.index.IndexEngine.get_loc\u001b[1;34m()\u001b[0m\n",
      "\u001b[1;32mpandas/_libs/hashtable_class_helper.pxi\u001b[0m in \u001b[0;36mpandas._libs.hashtable.PyObjectHashTable.get_item\u001b[1;34m()\u001b[0m\n",
      "\u001b[1;32mpandas/_libs/hashtable_class_helper.pxi\u001b[0m in \u001b[0;36mpandas._libs.hashtable.PyObjectHashTable.get_item\u001b[1;34m()\u001b[0m\n",
      "\u001b[1;31mKeyError\u001b[0m: 'producer'"
     ]
    }
   ],
   "source": [
    "#Producers\n",
    "movies = feature_one_hot(movies, 'producer')\n",
    "del movies['producer']"
   ]
  },
  {
   "cell_type": "markdown",
   "metadata": {},
   "source": [
    "## NN_Recommender"
   ]
  },
  {
   "cell_type": "code",
   "execution_count": 421,
   "metadata": {},
   "outputs": [],
   "source": [
    "class NNRecommender():\n",
    "    \n",
    "    def __init__(self, data, k=6, metric='minkowski', leaf_size=30):\n",
    "        self.data = data.drop('title', axis=1)\n",
    "        self.nn = NearestNeighbors(n_neighbors=k, metric=metric, leaf_size=leaf_size)\n",
    "        self.nn.fit(self.data.drop('id', axis=1))\n",
    "    \n",
    "    def _indices_to_movie_id(self, indices):\n",
    "        movie_ids = []\n",
    "        for index in indices:\n",
    "            movie_ids.append(self.data.iloc[index]['id'].values)\n",
    "        return movie_ids[0][1:]\n",
    "    \n",
    "    def recommend(self, movie_id, return_distance=False):\n",
    "        movie = self.data[self.data['id']==movie_id].drop('id', axis=1).values\n",
    "        distances, indices = self.nn.kneighbors(movie)\n",
    "        recommendations = self._indices_to_movie_id(indices)\n",
    "        if return_distance:\n",
    "            return recommendations, distances\n",
    "        else:\n",
    "            return recommendations"
   ]
  },
  {
   "cell_type": "code",
   "execution_count": 422,
   "metadata": {},
   "outputs": [],
   "source": [
    "def translate_id_to_title(ids, data):\n",
    "    titles = []\n",
    "    for i in ids:\n",
    "        titles.append(data[data['id'] == i]['title'].values[0])\n",
    "    return titles"
   ]
  },
  {
   "cell_type": "code",
   "execution_count": 423,
   "metadata": {},
   "outputs": [],
   "source": [
    "nnr = NNRecommender(movies,\n",
    "                    k=6, \n",
    "                    metric='minkowski', \n",
    "                    leaf_size=30)"
   ]
  },
  {
   "cell_type": "markdown",
   "metadata": {},
   "source": [
    "## Only Actors Top 100"
   ]
  },
  {
   "cell_type": "code",
   "execution_count": 887,
   "metadata": {
    "collapsed": true
   },
   "outputs": [
    {
     "name": "stdout",
     "output_type": "stream",
     "text": [
      "Movie:  ['Forrest Gump']\n",
      "Recommendations:\n",
      "[\"The 'Burbs\", 'Forrest Gump', 'Toy Story', 'Apollo 13', 'Sleepless in Seattle']\n",
      "\n",
      "Movie:  ['Iron Man']\n",
      "Recommendations:\n",
      "['The Singing Detective', 'Heart and Souls', 'Restoration', 'Two Girls and a Guy', '1969']\n",
      "\n",
      "Movie:  ['Pulp Fiction']\n",
      "Recommendations:\n",
      "['Changing Lanes', 'Jackie Brown', 'Pulp Fiction', 'The Long Kiss Goodnight', 'Unbreakable']\n",
      "\n",
      "Movie:  ['Ben-Hur']\n",
      "Recommendations:\n",
      "['A Cruel Romance', 'The Jungle Book', \"Things to Do in Denver When You're Dead\", 'Jury Duty', 'Train of Life']\n",
      "\n",
      "Movie:  ['Life of Brian']\n",
      "Recommendations:\n",
      "['A Cruel Romance', 'The Jungle Book', \"Things to Do in Denver When You're Dead\", 'Jury Duty', 'Train of Life']\n",
      "\n",
      "Movie:  ['Taxi Driver']\n",
      "Recommendations:\n",
      "['A Cruel Romance', 'The Jungle Book', \"Things to Do in Denver When You're Dead\", 'Jury Duty', 'Train of Life']\n",
      "\n",
      "Movie:  ['Princess Mononoke']\n",
      "Recommendations:\n",
      "['A Cruel Romance', 'The Jungle Book', \"Things to Do in Denver When You're Dead\", 'Jury Duty', 'Train of Life']\n",
      "\n"
     ]
    }
   ],
   "source": [
    "test_movies = [13, 1726, 680, 665, 583, 103, 128]\n",
    "for movie_id in test_movies:\n",
    "    print('Movie: ', translate_id_to_title([movie_id], movies))\n",
    "    recommendations = nnr.recommend(movie_id=movie_id)\n",
    "    titles = translate_id_to_title(recommendations, movies)\n",
    "    print('Recommendations:\\n{}'.format(titles))\n",
    "    print()"
   ]
  },
  {
   "cell_type": "markdown",
   "metadata": {},
   "source": [
    "## Only Actors Top 200"
   ]
  },
  {
   "cell_type": "code",
   "execution_count": 859,
   "metadata": {
    "collapsed": true
   },
   "outputs": [
    {
     "name": "stdout",
     "output_type": "stream",
     "text": [
      "Movie:  ['Forrest Gump']\n",
      "Recommendations:\n",
      "[\"The 'Burbs\", 'Forrest Gump', 'Toy Story', 'Apollo 13', 'Sleepless in Seattle']\n",
      "\n",
      "Movie:  ['Iron Man']\n",
      "Recommendations:\n",
      "['Chaplin', 'Heart and Souls', 'Two Girls and a Guy', '1969', 'The Singing Detective']\n",
      "\n",
      "Movie:  ['Pulp Fiction']\n",
      "Recommendations:\n",
      "['xXx: State of the Union', 'Jackie Brown', 'Pulp Fiction', 'The Long Kiss Goodnight', 'Twisted']\n",
      "\n",
      "Movie:  ['Ben-Hur']\n",
      "Recommendations:\n",
      "['Testament of Orpheus', 'Dreaming of Joseph Lees', \"Things to Do in Denver When You're Dead\", 'Kids', 'Turbo: A Power Rangers Movie']\n",
      "\n",
      "Movie:  ['Life of Brian']\n",
      "Recommendations:\n",
      "['Testament of Orpheus', 'Dreaming of Joseph Lees', \"Things to Do in Denver When You're Dead\", 'Kids', 'Turbo: A Power Rangers Movie']\n",
      "\n",
      "Movie:  ['Taxi Driver']\n",
      "Recommendations:\n",
      "['Testament of Orpheus', 'Dreaming of Joseph Lees', \"Things to Do in Denver When You're Dead\", 'Kids', 'Turbo: A Power Rangers Movie']\n",
      "\n",
      "Movie:  ['Princess Mononoke']\n",
      "Recommendations:\n",
      "['Testament of Orpheus', 'Dreaming of Joseph Lees', \"Things to Do in Denver When You're Dead\", 'Kids', 'Turbo: A Power Rangers Movie']\n",
      "\n"
     ]
    }
   ],
   "source": [
    "test_movies = [13, 1726, 680, 665, 583, 103, 128]\n",
    "for movie_id in test_movies:\n",
    "    print('Movie: ', translate_id_to_title([movie_id], movies))\n",
    "    recommendations = nnr.recommend(movie_id=movie_id)\n",
    "    titles = translate_id_to_title(recommendations, movies)\n",
    "    print('Recommendations:\\n{}'.format(titles))\n",
    "    print()"
   ]
  },
  {
   "cell_type": "markdown",
   "metadata": {},
   "source": [
    "## Top 100 Actors and Top 14 Writer"
   ]
  },
  {
   "cell_type": "code",
   "execution_count": 964,
   "metadata": {
    "collapsed": true
   },
   "outputs": [
    {
     "name": "stdout",
     "output_type": "stream",
     "text": [
      "Movie:  ['Forrest Gump']\n",
      "Recommendations:\n",
      "[\"The 'Burbs\", 'Forrest Gump', 'Toy Story', 'Apollo 13', 'Philadelphia']\n",
      "\n",
      "Movie:  ['Iron Man']\n",
      "Recommendations:\n",
      "['The Singing Detective', 'Heart and Souls', 'Restoration', 'Two Girls and a Guy', '1969']\n",
      "\n",
      "Movie:  ['Pulp Fiction']\n",
      "Recommendations:\n",
      "['Changing Lanes', 'Jackie Brown', 'Pulp Fiction', 'The Long Kiss Goodnight', 'Unbreakable']\n",
      "\n",
      "Movie:  ['Ben-Hur']\n",
      "Recommendations:\n",
      "['True Confessions', 'I Like It Like That', \"Things to Do in Denver When You're Dead\", 'Jury Duty', 'The Guardian']\n",
      "\n",
      "Movie:  ['Life of Brian']\n",
      "Recommendations:\n",
      "['True Confessions', 'I Like It Like That', \"Things to Do in Denver When You're Dead\", 'Jury Duty', 'The Guardian']\n",
      "\n",
      "Movie:  ['Taxi Driver']\n",
      "Recommendations:\n",
      "['True Confessions', 'I Like It Like That', \"Things to Do in Denver When You're Dead\", 'Jury Duty', 'The Guardian']\n",
      "\n",
      "Movie:  ['Princess Mononoke']\n",
      "Recommendations:\n",
      "['True Confessions', 'I Like It Like That', \"Things to Do in Denver When You're Dead\", 'Jury Duty', 'The Guardian']\n",
      "\n"
     ]
    }
   ],
   "source": [
    "test_movies = [13, 1726, 680, 665, 583, 103, 128]\n",
    "for movie_id in test_movies:\n",
    "    print('Movie: ', translate_id_to_title([movie_id], movies))\n",
    "    recommendations = nnr.recommend(movie_id=movie_id)\n",
    "    titles = translate_id_to_title(recommendations, movies)\n",
    "    print('Recommendations:\\n{}'.format(titles))\n",
    "    print()"
   ]
  },
  {
   "cell_type": "markdown",
   "metadata": {},
   "source": [
    "## Top 500, 300, 100 Actors, Top 14 Writer"
   ]
  },
  {
   "cell_type": "code",
   "execution_count": 981,
   "metadata": {
    "collapsed": true
   },
   "outputs": [
    {
     "name": "stdout",
     "output_type": "stream",
     "text": [
      "Movie:  ['Forrest Gump']\n",
      "Recommendations:\n",
      "[\"The 'Burbs\", 'Forrest Gump', 'Toy Story', 'Apollo 13', 'Sleepless in Seattle']\n",
      "\n",
      "Movie:  ['Iron Man']\n",
      "Recommendations:\n",
      "['The Singing Detective', 'Black and White', 'Two Girls and a Guy', 'Heart and Souls', '1969']\n",
      "\n",
      "Movie:  ['Pulp Fiction']\n",
      "Recommendations:\n",
      "['Zambezia', \"National Lampoon's Loaded Weapon 1\", 'Pulp Fiction', 'The Long Kiss Goodnight', '1408']\n",
      "\n",
      "Movie:  ['Ben-Hur']\n",
      "Recommendations:\n",
      "['Earthquake', 'Soylent Green', 'Ben-Hur', 'Touch of Evil', 'Planet of the Apes']\n",
      "\n",
      "Movie:  ['Life of Brian']\n",
      "Recommendations:\n",
      "['Personal Velocity', 'Rawhead Rex', \"Things to Do in Denver When You're Dead\", 'Kids', 'Selena']\n",
      "\n",
      "Movie:  ['Taxi Driver']\n",
      "Recommendations:\n",
      "['Once Upon a Time in America', 'A Bronx Tale', 'Taxi Driver', \"Mary Shelley's Frankenstein\", 'GoodFellas']\n",
      "\n",
      "Movie:  ['Princess Mononoke']\n",
      "Recommendations:\n",
      "['Personal Velocity', 'Rawhead Rex', \"Things to Do in Denver When You're Dead\", 'Kids', 'Selena']\n",
      "\n"
     ]
    }
   ],
   "source": [
    "test_movies = [13, 1726, 680, 665, 583, 103, 128]\n",
    "for movie_id in test_movies:\n",
    "    print('Movie: ', translate_id_to_title([movie_id], movies))\n",
    "    recommendations = nnr.recommend(movie_id=movie_id)\n",
    "    titles = translate_id_to_title(recommendations, movies)\n",
    "    print('Recommendations:\\n{}'.format(titles))\n",
    "    print()"
   ]
  },
  {
   "cell_type": "markdown",
   "metadata": {},
   "source": [
    "## Top 500, 300, 100 Actors, Top 14 Writer, Top 20 Directors"
   ]
  },
  {
   "cell_type": "code",
   "execution_count": 1067,
   "metadata": {
    "collapsed": true
   },
   "outputs": [
    {
     "name": "stdout",
     "output_type": "stream",
     "text": [
      "Movie:  ['Forrest Gump']\n",
      "Recommendations:\n",
      "[\"The 'Burbs\", 'Forrest Gump', 'Toy Story', 'Apollo 13', 'Sleepless in Seattle']\n",
      "\n",
      "Movie:  ['Iron Man']\n",
      "Recommendations:\n",
      "['The Singing Detective', 'Black and White', 'Two Girls and a Guy', 'Heart and Souls', '1969']\n",
      "\n",
      "Movie:  ['Pulp Fiction']\n",
      "Recommendations:\n",
      "['Death Proof', 'Jackie Brown', \"National Lampoon's Loaded Weapon 1\", 'The Long Kiss Goodnight', 'Twisted']\n",
      "\n",
      "Movie:  ['Ben-Hur']\n",
      "Recommendations:\n",
      "['Earthquake', 'Soylent Green', 'Ben-Hur', 'Touch of Evil', 'Planet of the Apes']\n",
      "\n",
      "Movie:  ['Life of Brian']\n",
      "Recommendations:\n",
      "['Personal Velocity', 'Rawhead Rex', \"Things to Do in Denver When You're Dead\", 'Kids', 'Selena']\n",
      "\n",
      "Movie:  ['Taxi Driver']\n",
      "Recommendations:\n",
      "['The King of Comedy', 'Taxi Driver', 'Raging Bull', 'A Bronx Tale', 'The Age of Innocence']\n",
      "\n",
      "Movie:  ['Princess Mononoke']\n",
      "Recommendations:\n",
      "['Personal Velocity', 'Rawhead Rex', \"Things to Do in Denver When You're Dead\", 'Kids', 'Selena']\n",
      "\n"
     ]
    }
   ],
   "source": [
    "test_movies = [13, 1726, 680, 665, 583, 103, 128]\n",
    "for movie_id in test_movies:\n",
    "    print('Movie: ', translate_id_to_title([movie_id], movies))\n",
    "    recommendations = nnr.recommend(movie_id=movie_id)\n",
    "    titles = translate_id_to_title(recommendations, movies)\n",
    "    print('Recommendations:\\n{}'.format(titles))\n",
    "    print()"
   ]
  },
  {
   "cell_type": "markdown",
   "metadata": {},
   "source": [
    "## Top 500, 300, 100 Actors, Top 14 Writer, Top 20 Directors, 12 Producers"
   ]
  },
  {
   "cell_type": "code",
   "execution_count": 1179,
   "metadata": {
    "collapsed": true
   },
   "outputs": [
    {
     "name": "stdout",
     "output_type": "stream",
     "text": [
      "Movie:  ['Forrest Gump']\n",
      "Recommendations:\n",
      "[\"The 'Burbs\", 'Forrest Gump', 'Toy Story', 'Apollo 13', 'Sleepless in Seattle']\n",
      "\n",
      "Movie:  ['Iron Man']\n",
      "Recommendations:\n",
      "['The Singing Detective', 'Black and White', 'Two Girls and a Guy', 'Heart and Souls', '1969']\n",
      "\n",
      "Movie:  ['Pulp Fiction']\n",
      "Recommendations:\n",
      "['Death Proof', 'Jackie Brown', \"National Lampoon's Loaded Weapon 1\", 'The Long Kiss Goodnight', 'Twisted']\n",
      "\n",
      "Movie:  ['Ben-Hur']\n",
      "Recommendations:\n",
      "['Earthquake', 'Soylent Green', 'Ben-Hur', 'Touch of Evil', 'Planet of the Apes']\n",
      "\n",
      "Movie:  ['Life of Brian']\n",
      "Recommendations:\n",
      "['Personal Velocity', 'Rawhead Rex', \"Things to Do in Denver When You're Dead\", 'Kids', 'Selena']\n",
      "\n",
      "Movie:  ['Taxi Driver']\n",
      "Recommendations:\n",
      "['The King of Comedy', 'Taxi Driver', 'Raging Bull', 'A Bronx Tale', 'The Age of Innocence']\n",
      "\n",
      "Movie:  ['Princess Mononoke']\n",
      "Recommendations:\n",
      "['Personal Velocity', 'Rawhead Rex', \"Things to Do in Denver When You're Dead\", 'Kids', 'Selena']\n",
      "\n",
      "Movie:  ['The Sound of Music']\n",
      "Recommendations:\n",
      "['Star!', 'Victor/Victoria', 'Mary Poppins', 'The Sound of Music', 'Thoroughly Modern Millie']\n",
      "\n",
      "Movie:  ['1984']\n",
      "Recommendations:\n",
      "['Rhubarb', '1984', 'Man with the Gun', 'Shaft', 'Near Dark']\n",
      "\n",
      "Movie:  ['Die Hard']\n",
      "Recommendations:\n",
      "['The Fifth Element', 'Last Man Standing', 'Color of Night', 'Striking Distance', 'Die Hard 2']\n",
      "\n",
      "Movie:  ['Saw']\n",
      "Recommendations:\n",
      "['Pure Luck', 'Beloved', \"Gone Fishin'\", 'Switchback', 'Bat*21']\n",
      "\n"
     ]
    }
   ],
   "source": [
    "test_movies = [13, 1726, 680, 665, 583, 103, 128, 15121, 1984, 562, 176]\n",
    "for movie_id in test_movies:\n",
    "    print('Movie: ', translate_id_to_title([movie_id], movies))\n",
    "    recommendations = nnr.recommend(movie_id=movie_id)\n",
    "    titles = translate_id_to_title(recommendations, movies)\n",
    "    print('Recommendations:\\n{}'.format(titles))\n",
    "    print()"
   ]
  },
  {
   "cell_type": "markdown",
   "metadata": {},
   "source": [
    "## All Actors together"
   ]
  },
  {
   "cell_type": "code",
   "execution_count": 174,
   "metadata": {
    "collapsed": true
   },
   "outputs": [
    {
     "name": "stdout",
     "output_type": "stream",
     "text": [
      "Movie:  ['Forrest Gump']\n",
      "Recommendations:\n",
      "[\"The 'Burbs\", 'Philadelphia', 'Apollo 13', 'Forrest Gump', 'That Thing You Do!']\n",
      "\n",
      "Movie:  ['Iron Man']\n",
      "Recommendations:\n",
      "['Heart and Souls', 'Two Girls and a Guy', 'Home for the Holidays', 'Only You', 'The Gingerbread Man']\n",
      "\n",
      "Movie:  ['Pulp Fiction']\n",
      "Recommendations:\n",
      "['Amos & Andrew', 'Fresh', 'The Great White Hype', 'Fluke', 'The Long Kiss Goodnight']\n",
      "\n",
      "Movie:  ['Ben-Hur']\n",
      "Recommendations:\n",
      "['Earthquake', 'Soylent Green', 'Touch of Evil', 'Ben-Hur', 'Planet of the Apes']\n",
      "\n",
      "Movie:  ['Life of Brian']\n",
      "Recommendations:\n",
      "['The Face Behind the Mask', 'Smokers Only', \"Antonia's Line\", 'Living in Oblivion', 'Princess Mononoke']\n",
      "\n",
      "Movie:  ['Taxi Driver']\n",
      "Recommendations:\n",
      "['The King of Comedy', 'Taxi Driver', 'Raging Bull', 'A Bronx Tale', 'The Age of Innocence']\n",
      "\n",
      "Movie:  ['Princess Mononoke']\n",
      "Recommendations:\n",
      "['The Face Behind the Mask', 'Smokers Only', \"Antonia's Line\", 'Living in Oblivion', 'Princess Mononoke']\n",
      "\n",
      "Movie:  ['The Sound of Music']\n",
      "Recommendations:\n",
      "['Star!', 'Victor/Victoria', 'Mary Poppins', 'The Sound of Music', 'Thoroughly Modern Millie']\n",
      "\n",
      "Movie:  ['1984']\n",
      "Recommendations:\n",
      "['Rhubarb', '1984', 'Man with the Gun', 'Battleship Potemkin', 'Lonely Are the Brave']\n",
      "\n",
      "Movie:  ['Die Hard']\n",
      "Recommendations:\n",
      "['Die Hard 2', 'Striking Distance', \"Nobody's Fool\", 'Color of Night', 'Die Hard']\n",
      "\n",
      "Movie:  ['Saw']\n",
      "Recommendations:\n",
      "['Grand Canyon', \"Gone Fishin'\", 'The Saint of Fort Washington', 'Operation Dumbo Drop', 'Switchback']\n",
      "\n"
     ]
    }
   ],
   "source": [
    "test_movies = [13, 1726, 680, 665, 583, 103, 128, 15121, 1984, 562, 176]\n",
    "for movie_id in test_movies:\n",
    "    print('Movie: ', translate_id_to_title([movie_id], movies))\n",
    "    recommendations = nnr.recommend(movie_id=movie_id)\n",
    "    titles = translate_id_to_title(recommendations, movies)\n",
    "    print('Recommendations:\\n{}'.format(titles))\n",
    "    print()"
   ]
  },
  {
   "cell_type": "markdown",
   "metadata": {},
   "source": [
    "## With every actor kept in one list"
   ]
  },
  {
   "cell_type": "code",
   "execution_count": 314,
   "metadata": {},
   "outputs": [
    {
     "name": "stdout",
     "output_type": "stream",
     "text": [
      "Movie:  ['Forrest Gump']\n",
      "Recommendations:\n",
      "['That Thing You Do!', 'Forrest Gump', 'Toy Story', 'Apollo 13', 'Sleepless in Seattle']\n",
      "\n",
      "Movie:  ['Iron Man']\n",
      "Recommendations:\n",
      "['Heart and Souls', 'Two Girls and a Guy', 'Home for the Holidays', 'Only You', 'The Gingerbread Man']\n",
      "\n",
      "Movie:  ['Pulp Fiction']\n",
      "Recommendations:\n",
      "['Amos & Andrew', 'Fresh', 'The Great White Hype', 'Fluke', 'The Long Kiss Goodnight']\n",
      "\n",
      "Movie:  ['Ben-Hur']\n",
      "Recommendations:\n",
      "['Earthquake', 'Soylent Green', 'Touch of Evil', 'Ben-Hur', 'Planet of the Apes']\n",
      "\n",
      "Movie:  ['Life of Brian']\n",
      "Recommendations:\n",
      "['The Face Behind the Mask', 'Smokers Only', \"Antonia's Line\", 'Living in Oblivion', 'Princess Mononoke']\n",
      "\n",
      "Movie:  ['Taxi Driver']\n",
      "Recommendations:\n",
      "['The King of Comedy', 'Taxi Driver', 'Raging Bull', 'A Bronx Tale', 'The Age of Innocence']\n",
      "\n",
      "Movie:  ['Princess Mononoke']\n",
      "Recommendations:\n",
      "['The Face Behind the Mask', 'Smokers Only', \"Antonia's Line\", 'Living in Oblivion', 'Princess Mononoke']\n",
      "\n",
      "Movie:  ['The Sound of Music']\n",
      "Recommendations:\n",
      "['Star!', 'Victor/Victoria', 'Mary Poppins', 'The Sound of Music', 'Thoroughly Modern Millie']\n",
      "\n",
      "Movie:  ['1984']\n",
      "Recommendations:\n",
      "['Rhubarb', '1984', 'Man with the Gun', 'Battleship Potemkin', 'Lonely Are the Brave']\n",
      "\n",
      "Movie:  ['Die Hard']\n",
      "Recommendations:\n",
      "['Die Hard 2', 'Striking Distance', \"Nobody's Fool\", 'Color of Night', 'Die Hard']\n",
      "\n",
      "Movie:  ['Saw']\n",
      "Recommendations:\n",
      "['Grand Canyon', \"Gone Fishin'\", 'The Saint of Fort Washington', 'Operation Dumbo Drop', 'Switchback']\n",
      "\n",
      "Movie:  ['Star Wars']\n",
      "Recommendations:\n",
      "['The Empire Strikes Back', 'Return of the Jedi', 'The Star Wars Holiday Special', 'Clear and Present Danger', 'Sabrina']\n",
      "\n"
     ]
    }
   ],
   "source": [
    "test_movies = [13, 1726, 680, 665, 583, 103, 128, 15121, 1984, 562, 176, 11]\n",
    "for movie_id in test_movies:\n",
    "    print('Movie: ', translate_id_to_title([movie_id], movies))\n",
    "    recommendations = nnr.recommend(movie_id=movie_id)\n",
    "    titles = translate_id_to_title(recommendations, movies)\n",
    "    print('Recommendations:\\n{}'.format(titles))\n",
    "    print()"
   ]
  },
  {
   "cell_type": "markdown",
   "metadata": {},
   "source": [
    "### People plus Genre"
   ]
  },
  {
   "cell_type": "code",
   "execution_count": 356,
   "metadata": {
    "collapsed": true
   },
   "outputs": [
    {
     "name": "stdout",
     "output_type": "stream",
     "text": [
      "Movie:  ['Forrest Gump']\n",
      "Recommendations:\n",
      "['Sleepless in Seattle', 'Nothing in Common', 'Together', 'Sidewalks of New York', 'That Thing You Do!']\n",
      "\n",
      "Movie:  ['Iron Man']\n",
      "Recommendations:\n",
      "['Iron Man 2', 'Iron Man 3', 'America 3000', '20,000 Leagues Under the Sea', 'The Time Machine']\n",
      "\n",
      "Movie:  ['Pulp Fiction']\n",
      "Recommendations:\n",
      "['Physical Evidence', 'The Hitch-Hiker', 'Snatch', 'Incognito', 'Fresh']\n",
      "\n",
      "Movie:  ['Ben-Hur']\n",
      "Recommendations:\n",
      "['Scott of the Antarctic', 'The Lost City of Z', 'The Message', 'The Guillotines', 'Memories of the Sword']\n",
      "\n",
      "Movie:  ['Life of Brian']\n",
      "Recommendations:\n",
      "['Haiku Tunnel', 'Splendor', 'So Fine', 'Jay and Silent Bob Strike Back', 'Abbott and Costello Meet the Mummy']\n",
      "\n",
      "Movie:  ['Taxi Driver']\n",
      "Recommendations:\n",
      "['Taxi Driver', 'Raging Bull', 'True Confessions', 'Casino', 'A Bronx Tale']\n",
      "\n",
      "Movie:  ['Princess Mononoke']\n",
      "Recommendations:\n",
      "['Pom Poko', 'Princess Mononoke', 'Yu☆Gi☆Oh!', 'Valhalla', 'Pokémon Origins']\n",
      "\n",
      "Movie:  ['The Sound of Music']\n",
      "Recommendations:\n",
      "['Roller Boogie', 'Footloose', 'Anna', 'My Fair Lady', 'Star!']\n",
      "\n",
      "Movie:  ['1984']\n",
      "Recommendations:\n",
      "['The Man Who Fell to Earth', 'The Day the Earth Caught Fire', 'Fahrenheit 451', 'The Falls', 'The Sticky Fingers of Time']\n",
      "\n",
      "Movie:  ['Die Hard']\n",
      "Recommendations:\n",
      "['The Last Boy Scout', 'A Good Day to Die Hard', 'Die Hard', 'The Prince', 'Live Free or Die Hard']\n",
      "\n",
      "Movie:  ['Saw']\n",
      "Recommendations:\n",
      "['Eye of the Devil', 'Scream', 'She-Wolf of London', 'House of Wax', 'Grip of the Strangler']\n",
      "\n",
      "Movie:  ['Star Wars']\n",
      "Recommendations:\n",
      "['Return of the Jedi', 'The Empire Strikes Back', \"Ender's Game\", 'Equalizer 2000', 'Wheels of Fire']\n",
      "\n"
     ]
    }
   ],
   "source": [
    "test_movies = [13, 1726, 680, 665, 583, 103, 128, 15121, 1984, 562, 176, 11]\n",
    "for movie_id in test_movies:\n",
    "    print('Movie: ', translate_id_to_title([movie_id], movies))\n",
    "    recommendations = nnr.recommend(movie_id=movie_id)\n",
    "    titles = translate_id_to_title(recommendations, movies)\n",
    "    print('Recommendations:\\n{}'.format(titles))\n",
    "    print()"
   ]
  },
  {
   "cell_type": "markdown",
   "metadata": {},
   "source": [
    "### Actors merged Writer, Producer, Director merged plus Genre plus Keywords "
   ]
  },
  {
   "cell_type": "code",
   "execution_count": 424,
   "metadata": {
    "scrolled": true
   },
   "outputs": [
    {
     "name": "stdout",
     "output_type": "stream",
     "text": [
      "Movie:  ['Forrest Gump']\n",
      "Recommendations:\n",
      "['Looking: The Movie', 'Jules and Jim', 'Three Steps Above Heaven', 'The Low Down', 'Hands Across the Table']\n",
      "\n",
      "Movie:  ['Iron Man']\n",
      "Recommendations:\n",
      "['Iron Man 3', 'America 3000', 'The Time Machine', 'Power Rangers', 'Mr. India']\n",
      "\n",
      "Movie:  ['Pulp Fiction']\n",
      "Recommendations:\n",
      "['Heaven', 'T-Men', 'Reservoir Dogs', 'Knockaround Guys', 'The Formula']\n",
      "\n",
      "Movie:  ['Ben-Hur']\n",
      "Recommendations:\n",
      "['The Last of the Mohicans', 'Memories of the Sword', 'Scott of the Antarctic', \"Arn: The Kingdom at Road's End\", 'Mountains of the Moon']\n",
      "\n",
      "Movie:  ['Life of Brian']\n",
      "Recommendations:\n",
      "['Denise Calls Up', 'Splendor', 'So Fine', 'Jay and Silent Bob Strike Back', 'Haiku Tunnel']\n",
      "\n",
      "Movie:  ['Taxi Driver']\n",
      "Recommendations:\n",
      "['True Confessions', 'A Bronx Tale', 'Casino', 'Bang the Drum Slowly', 'Detour']\n",
      "\n",
      "Movie:  ['Princess Mononoke']\n",
      "Recommendations:\n",
      "['Mei and the Kittenbus', \"Howl's Moving Castle\", 'Yu☆Gi☆Oh!', \"Kiki's Delivery Service\", 'Valhalla']\n",
      "\n",
      "Movie:  ['The Sound of Music']\n",
      "Recommendations:\n",
      "['Star!', 'The Broadway Melody', \"Mr. Holland's Opus\", 'Oliver!', 'My Fair Lady']\n",
      "\n",
      "Movie:  ['1984']\n",
      "Recommendations:\n",
      "['The Invisible Man', 'The Day the Earth Caught Fire', 'The Man Who Fell to Earth', 'The Falls', 'Fahrenheit 451']\n",
      "\n",
      "Movie:  ['Die Hard']\n",
      "Recommendations:\n",
      "['Die Hard 2', 'The Eleventh Hour', 'The Prince', 'The Third Wave', 'A Good Day to Die Hard']\n",
      "\n",
      "Movie:  ['Saw']\n",
      "Recommendations:\n",
      "['Scream', 'Grip of the Strangler', 'House of Wax', 'Phantom of the Rue Morgue', 'Eye of the Devil']\n",
      "\n",
      "Movie:  ['Star Wars']\n",
      "Recommendations:\n",
      "['The Empire Strikes Back', 'Return of the Jedi', 'Transmorphers Fall of Man', 'Equalizer 2000', 'Forbidden Planet']\n",
      "\n"
     ]
    }
   ],
   "source": [
    "test_movies = [13, 1726, 680, 665, 583, 103, 128, 15121, 1984, 562, 176, 11]\n",
    "for movie_id in test_movies:\n",
    "    print('Movie: ', translate_id_to_title([movie_id], movies))\n",
    "    recommendations = nnr.recommend(movie_id=movie_id)\n",
    "    titles = translate_id_to_title(recommendations, movies)\n",
    "    print('Recommendations:\\n{}'.format(titles))\n",
    "    print()"
   ]
  },
  {
   "cell_type": "code",
   "execution_count": 431,
   "metadata": {},
   "outputs": [
    {
     "name": "stdout",
     "output_type": "stream",
     "text": [
      "291    Pulp Fiction\n",
      "Name: title, dtype: object\n",
      "id\n",
      "title\n",
      "Crime\n",
      "Thriller\n",
      "actor Samuel L. Jackson\n",
      "director Quentin Tarantino\n"
     ]
    }
   ],
   "source": [
    "#Print all column names with values != 0\n",
    "id_ = 680\n",
    "print(movies[movies['id'] == id_]['title'])\n",
    "for mov in movies[movies['id']== id_]:\n",
    "    if(movies[movies['id']== id_][mov].item() != 0):\n",
    "        print(mov)\n"
   ]
  },
  {
   "cell_type": "code",
   "execution_count": 433,
   "metadata": {
    "scrolled": true
   },
   "outputs": [
    {
     "name": "stdout",
     "output_type": "stream",
     "text": [
      "id\n",
      "title\n",
      "Action\n",
      "Thriller\n",
      "actor Bruce Willis\n"
     ]
    }
   ],
   "source": [
    "#Print all column names with values != 0\n",
    "movie_name = \"The Prince\"\n",
    "for mov in movies[movies['title']== movie_name]:\n",
    "    if(movies[movies['title']==movie_name][mov].item() != 0):\n",
    "        print(mov)\n"
   ]
  },
  {
   "cell_type": "code",
   "execution_count": 24,
   "metadata": {},
   "outputs": [
    {
     "data": {
      "text/html": [
       "<div>\n",
       "<style scoped>\n",
       "    .dataframe tbody tr th:only-of-type {\n",
       "        vertical-align: middle;\n",
       "    }\n",
       "\n",
       "    .dataframe tbody tr th {\n",
       "        vertical-align: top;\n",
       "    }\n",
       "\n",
       "    .dataframe thead th {\n",
       "        text-align: right;\n",
       "    }\n",
       "</style>\n",
       "<table border=\"1\" class=\"dataframe\">\n",
       "  <thead>\n",
       "    <tr style=\"text-align: right;\">\n",
       "      <th></th>\n",
       "      <th>id</th>\n",
       "      <th>title</th>\n",
       "      <th>director</th>\n",
       "      <th>Action</th>\n",
       "      <th>Adventure</th>\n",
       "      <th>Animation</th>\n",
       "      <th>Comedy</th>\n",
       "      <th>Crime</th>\n",
       "      <th>Documentary</th>\n",
       "      <th>Drama</th>\n",
       "      <th>Family</th>\n",
       "      <th>Fantasy</th>\n",
       "      <th>Foreign</th>\n",
       "      <th>History</th>\n",
       "      <th>Horror</th>\n",
       "      <th>Music</th>\n",
       "      <th>Mystery</th>\n",
       "      <th>Romance</th>\n",
       "      <th>Science Fiction</th>\n",
       "      <th>TV Movie</th>\n",
       "      <th>Thriller</th>\n",
       "      <th>War</th>\n",
       "      <th>Western</th>\n",
       "      <th>woman director</th>\n",
       "      <th>independent film</th>\n",
       "      <th>murder</th>\n",
       "      <th>based on novel</th>\n",
       "      <th>musical</th>\n",
       "      <th>sex</th>\n",
       "      <th>violence</th>\n",
       "      <th>nudity</th>\n",
       "      <th>biography</th>\n",
       "      <th>revenge</th>\n",
       "      <th>suspense</th>\n",
       "      <th>love</th>\n",
       "      <th>female nudity</th>\n",
       "      <th>sport</th>\n",
       "      <th>police</th>\n",
       "      <th>teenager</th>\n",
       "      <th>duringcreditsstinger</th>\n",
       "      <th>sequel</th>\n",
       "      <th>friendship</th>\n",
       "      <th>world war ii</th>\n",
       "      <th>actor</th>\n",
       "    </tr>\n",
       "  </thead>\n",
       "  <tbody>\n",
       "    <tr>\n",
       "      <th>350</th>\n",
       "      <td>13</td>\n",
       "      <td>Forrest Gump</td>\n",
       "      <td>[]</td>\n",
       "      <td>0</td>\n",
       "      <td>0</td>\n",
       "      <td>0</td>\n",
       "      <td>1</td>\n",
       "      <td>0</td>\n",
       "      <td>0</td>\n",
       "      <td>1</td>\n",
       "      <td>0</td>\n",
       "      <td>0</td>\n",
       "      <td>0</td>\n",
       "      <td>0</td>\n",
       "      <td>0</td>\n",
       "      <td>0</td>\n",
       "      <td>0</td>\n",
       "      <td>1</td>\n",
       "      <td>0</td>\n",
       "      <td>0</td>\n",
       "      <td>0</td>\n",
       "      <td>0</td>\n",
       "      <td>0</td>\n",
       "      <td>0</td>\n",
       "      <td>0</td>\n",
       "      <td>0</td>\n",
       "      <td>1</td>\n",
       "      <td>0</td>\n",
       "      <td>0</td>\n",
       "      <td>0</td>\n",
       "      <td>0</td>\n",
       "      <td>0</td>\n",
       "      <td>0</td>\n",
       "      <td>0</td>\n",
       "      <td>1</td>\n",
       "      <td>0</td>\n",
       "      <td>0</td>\n",
       "      <td>0</td>\n",
       "      <td>0</td>\n",
       "      <td>0</td>\n",
       "      <td>0</td>\n",
       "      <td>1</td>\n",
       "      <td>0</td>\n",
       "      <td>[Tom Hanks, Robin Wright, Gary Sinise]</td>\n",
       "    </tr>\n",
       "  </tbody>\n",
       "</table>\n",
       "</div>"
      ],
      "text/plain": [
       "     id         title director  Action  Adventure  Animation  Comedy  Crime  \\\n",
       "350  13  Forrest Gump       []       0          0          0       1      0   \n",
       "\n",
       "     Documentary  Drama  Family  Fantasy  Foreign  History  Horror  Music  \\\n",
       "350            0      1       0        0        0        0       0      0   \n",
       "\n",
       "     Mystery  Romance  Science Fiction  TV Movie  Thriller  War  Western  \\\n",
       "350        0        1                0         0         0    0        0   \n",
       "\n",
       "     woman director  independent film  murder  based on novel  musical  sex  \\\n",
       "350               0                 0       0               1        0    0   \n",
       "\n",
       "     violence  nudity  biography  revenge  suspense  love  female nudity  \\\n",
       "350         0       0          0        0         0     1              0   \n",
       "\n",
       "     sport  police  teenager  duringcreditsstinger  sequel  friendship  \\\n",
       "350      0       0         0                     0       0           1   \n",
       "\n",
       "     world war ii                                   actor  \n",
       "350             0  [Tom Hanks, Robin Wright, Gary Sinise]  "
      ]
     },
     "execution_count": 24,
     "metadata": {},
     "output_type": "execute_result"
    }
   ],
   "source": [
    "movies[movies['title']=='Forrest Gump']"
   ]
  },
  {
   "cell_type": "code",
   "execution_count": null,
   "metadata": {},
   "outputs": [],
   "source": []
  }
 ],
 "metadata": {
  "kernelspec": {
   "display_name": "Python 3",
   "language": "python",
   "name": "python3"
  },
  "language_info": {
   "codemirror_mode": {
    "name": "ipython",
    "version": 3
   },
   "file_extension": ".py",
   "mimetype": "text/x-python",
   "name": "python",
   "nbconvert_exporter": "python",
   "pygments_lexer": "ipython3",
   "version": "3.7.3"
  }
 },
 "nbformat": 4,
 "nbformat_minor": 2
}
