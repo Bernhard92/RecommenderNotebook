{
 "cells": [
  {
   "cell_type": "code",
   "execution_count": 25,
   "metadata": {},
   "outputs": [],
   "source": [
    "import os \n",
    "import numpy as np\n",
    "import pandas as pd\n",
    "import seaborn as sns\n",
    "from sklearn.neighbors import NearestNeighbors\n",
    "from sklearn.preprocessing import MultiLabelBinarizer\n",
    "from sklearn.decomposition import PCA\n",
    "from sklearn.model_selection import train_test_split\n",
    "from sklearn import svm\n",
    "from sklearn.metrics import precision_recall_fscore_support"
   ]
  },
  {
   "cell_type": "code",
   "execution_count": 26,
   "metadata": {},
   "outputs": [],
   "source": [
    "data_path = os.path.join(os.getcwd(),'data')"
   ]
  },
  {
   "cell_type": "markdown",
   "metadata": {},
   "source": [
    "## Load original data "
   ]
  },
  {
   "cell_type": "code",
   "execution_count": 97,
   "metadata": {},
   "outputs": [],
   "source": [
    "# import data\n",
    "data = pd.read_json(os.path.join(data_path, 'supreme_movie_dataset.json'))"
   ]
  },
  {
   "cell_type": "markdown",
   "metadata": {},
   "source": [
    "## - Or load clean_data"
   ]
  },
  {
   "cell_type": "code",
   "execution_count": 70,
   "metadata": {},
   "outputs": [],
   "source": [
    "clean_data = pd.read_json(os.path.join(data_path, 'clean_data.json'))"
   ]
  },
  {
   "cell_type": "markdown",
   "metadata": {},
   "source": [
    "## - Or load clean binarized data"
   ]
  },
  {
   "cell_type": "code",
   "execution_count": 148,
   "metadata": {},
   "outputs": [],
   "source": [
    "clean_data = pd.read_json(os.path.join(data_path, 'clean_data_binarized.json'))"
   ]
  },
  {
   "cell_type": "markdown",
   "metadata": {},
   "source": [
    "## Ananlysing Original Data"
   ]
  },
  {
   "cell_type": "code",
   "execution_count": 98,
   "metadata": {},
   "outputs": [
    {
     "data": {
      "text/html": [
       "<div>\n",
       "<style scoped>\n",
       "    .dataframe tbody tr th:only-of-type {\n",
       "        vertical-align: middle;\n",
       "    }\n",
       "\n",
       "    .dataframe tbody tr th {\n",
       "        vertical-align: top;\n",
       "    }\n",
       "\n",
       "    .dataframe thead th {\n",
       "        text-align: right;\n",
       "    }\n",
       "</style>\n",
       "<table border=\"1\" class=\"dataframe\">\n",
       "  <thead>\n",
       "    <tr style=\"text-align: right;\">\n",
       "      <th></th>\n",
       "      <th>imdb.actors</th>\n",
       "      <th>imdb.budget</th>\n",
       "      <th>imdb.budgetCurrency</th>\n",
       "      <th>imdb.color</th>\n",
       "      <th>imdb.country</th>\n",
       "      <th>imdb.coverLink</th>\n",
       "      <th>imdb.directors</th>\n",
       "      <th>imdb.genres</th>\n",
       "      <th>imdb.imdbLink</th>\n",
       "      <th>imdb.originalLanguage</th>\n",
       "      <th>...</th>\n",
       "      <th>tmdb.reviews</th>\n",
       "      <th>tmdb.runtime</th>\n",
       "      <th>tmdb.similar</th>\n",
       "      <th>tmdb.spoken_languages</th>\n",
       "      <th>tmdb.status</th>\n",
       "      <th>tmdb.tagline</th>\n",
       "      <th>tmdb.title</th>\n",
       "      <th>tmdb.video</th>\n",
       "      <th>tmdb.vote_average</th>\n",
       "      <th>tmdb.vote_count</th>\n",
       "    </tr>\n",
       "  </thead>\n",
       "  <tbody>\n",
       "    <tr>\n",
       "      <th>0</th>\n",
       "      <td>[Stars: Peter Scanavino, Jason Robards III, An...</td>\n",
       "      <td>0</td>\n",
       "      <td>None</td>\n",
       "      <td>Color</td>\n",
       "      <td>USA</td>\n",
       "      <td>http://ia.media-imdb.com/images/M/MV5BMjI3NTE5...</td>\n",
       "      <td>[Vladan Nikolic]</td>\n",
       "      <td>[Sci-Fi, Thriller]</td>\n",
       "      <td>http://www.imdb.com/title/tt1363468/</td>\n",
       "      <td>English</td>\n",
       "      <td>...</td>\n",
       "      <td>[]</td>\n",
       "      <td>93.0</td>\n",
       "      <td>[17654, 51828, 41630, 200727, 38, 18239, 388, ...</td>\n",
       "      <td>[{'name': 'English', 'iso_639_1': 'en'}]</td>\n",
       "      <td>Released</td>\n",
       "      <td>The Film They Don't Want You To See</td>\n",
       "      <td>Zenith</td>\n",
       "      <td>0.0</td>\n",
       "      <td>5.1</td>\n",
       "      <td>9.0</td>\n",
       "    </tr>\n",
       "    <tr>\n",
       "      <th>1</th>\n",
       "      <td>[Mark Albrow, Stefan Alt, Chris Carter]</td>\n",
       "      <td>0</td>\n",
       "      <td>None</td>\n",
       "      <td>Color</td>\n",
       "      <td>France</td>\n",
       "      <td>None</td>\n",
       "      <td>[Travis Collins, Amélie Ravalec]</td>\n",
       "      <td>[Documentary, History, Music]</td>\n",
       "      <td>http://www.imdb.com/title/tt3606298/</td>\n",
       "      <td>English</td>\n",
       "      <td>...</td>\n",
       "      <td>[]</td>\n",
       "      <td>52.0</td>\n",
       "      <td>[450794, 20575, 786, 525, 468775, 468769, 1584...</td>\n",
       "      <td>[{'name': 'English', 'iso_639_1': 'en'}]</td>\n",
       "      <td>Released</td>\n",
       "      <td></td>\n",
       "      <td>Industrial Soundtrack for the Urban Decay</td>\n",
       "      <td>0.0</td>\n",
       "      <td>7.7</td>\n",
       "      <td>3.0</td>\n",
       "    </tr>\n",
       "    <tr>\n",
       "      <th>10</th>\n",
       "      <td>[Crispin Glover, Allisyn Ashley Arm, Terry Moore]</td>\n",
       "      <td>0</td>\n",
       "      <td>None</td>\n",
       "      <td>Color</td>\n",
       "      <td>USA</td>\n",
       "      <td>None</td>\n",
       "      <td>[Hooroo Jackson]</td>\n",
       "      <td>[Drama, Fantasy, Sci-Fi, Thriller]</td>\n",
       "      <td>http://www.imdb.com/title/tt3550078/</td>\n",
       "      <td>English</td>\n",
       "      <td>...</td>\n",
       "      <td>[]</td>\n",
       "      <td>75.0</td>\n",
       "      <td>[376290, 15472, 293768, 297762, 390582, 70, 50...</td>\n",
       "      <td>[{'name': 'English', 'iso_639_1': 'en'}]</td>\n",
       "      <td>Released</td>\n",
       "      <td></td>\n",
       "      <td>Aimy in a Cage</td>\n",
       "      <td>0.0</td>\n",
       "      <td>5.1</td>\n",
       "      <td>9.0</td>\n",
       "    </tr>\n",
       "    <tr>\n",
       "      <th>100</th>\n",
       "      <td>[Stars: Grete Havnesköld, Linn Gloppestad, Mar...</td>\n",
       "      <td>0</td>\n",
       "      <td>None</td>\n",
       "      <td>Color</td>\n",
       "      <td>Sweden</td>\n",
       "      <td>None</td>\n",
       "      <td>[Johanna Hald]</td>\n",
       "      <td>[Family]</td>\n",
       "      <td>http://www.imdb.com/title/tt0107444/</td>\n",
       "      <td>Swedish</td>\n",
       "      <td>...</td>\n",
       "      <td>[]</td>\n",
       "      <td>79.0</td>\n",
       "      <td>[394117, 49519, 93456, 258480, 17130, 5123, 39...</td>\n",
       "      <td>[{'name': 'svenska', 'iso_639_1': 'sv'}]</td>\n",
       "      <td>Released</td>\n",
       "      <td></td>\n",
       "      <td>Lotta Leaves Home</td>\n",
       "      <td>0.0</td>\n",
       "      <td>5.8</td>\n",
       "      <td>5.0</td>\n",
       "    </tr>\n",
       "    <tr>\n",
       "      <th>1000</th>\n",
       "      <td>[Dario Yazbek Bernal, Marimar Vega, José María...</td>\n",
       "      <td>0</td>\n",
       "      <td>None</td>\n",
       "      <td>Color</td>\n",
       "      <td>Mexico</td>\n",
       "      <td>https://ia.media-imdb.com/images/M/MV5BMjIzMjU...</td>\n",
       "      <td>[Michel Franco]</td>\n",
       "      <td>[Drama, Thriller]</td>\n",
       "      <td>http://www.imdb.com/title/tt1392888/</td>\n",
       "      <td>Spanish</td>\n",
       "      <td>...</td>\n",
       "      <td>[]</td>\n",
       "      <td>90.0</td>\n",
       "      <td>[8067, 4771, 984, 2149, 11826, 80752, 562, 284...</td>\n",
       "      <td>[{'name': 'English', 'iso_639_1': 'en'}, {'nam...</td>\n",
       "      <td>Released</td>\n",
       "      <td></td>\n",
       "      <td>Daniel &amp; Ana</td>\n",
       "      <td>0.0</td>\n",
       "      <td>5.9</td>\n",
       "      <td>11.0</td>\n",
       "    </tr>\n",
       "  </tbody>\n",
       "</table>\n",
       "<p>5 rows × 71 columns</p>\n",
       "</div>"
      ],
      "text/plain": [
       "                                            imdb.actors  imdb.budget  \\\n",
       "0     [Stars: Peter Scanavino, Jason Robards III, An...            0   \n",
       "1               [Mark Albrow, Stefan Alt, Chris Carter]            0   \n",
       "10    [Crispin Glover, Allisyn Ashley Arm, Terry Moore]            0   \n",
       "100   [Stars: Grete Havnesköld, Linn Gloppestad, Mar...            0   \n",
       "1000  [Dario Yazbek Bernal, Marimar Vega, José María...            0   \n",
       "\n",
       "     imdb.budgetCurrency imdb.color imdb.country  \\\n",
       "0                   None      Color          USA   \n",
       "1                   None      Color       France   \n",
       "10                  None      Color          USA   \n",
       "100                 None      Color       Sweden   \n",
       "1000                None      Color       Mexico   \n",
       "\n",
       "                                         imdb.coverLink  \\\n",
       "0     http://ia.media-imdb.com/images/M/MV5BMjI3NTE5...   \n",
       "1                                                  None   \n",
       "10                                                 None   \n",
       "100                                                None   \n",
       "1000  https://ia.media-imdb.com/images/M/MV5BMjIzMjU...   \n",
       "\n",
       "                        imdb.directors                         imdb.genres  \\\n",
       "0                     [Vladan Nikolic]                  [Sci-Fi, Thriller]   \n",
       "1     [Travis Collins, Amélie Ravalec]       [Documentary, History, Music]   \n",
       "10                    [Hooroo Jackson]  [Drama, Fantasy, Sci-Fi, Thriller]   \n",
       "100                     [Johanna Hald]                            [Family]   \n",
       "1000                   [Michel Franco]                   [Drama, Thriller]   \n",
       "\n",
       "                             imdb.imdbLink imdb.originalLanguage  ...  \\\n",
       "0     http://www.imdb.com/title/tt1363468/               English  ...   \n",
       "1     http://www.imdb.com/title/tt3606298/               English  ...   \n",
       "10    http://www.imdb.com/title/tt3550078/               English  ...   \n",
       "100   http://www.imdb.com/title/tt0107444/               Swedish  ...   \n",
       "1000  http://www.imdb.com/title/tt1392888/               Spanish  ...   \n",
       "\n",
       "     tmdb.reviews tmdb.runtime  \\\n",
       "0              []         93.0   \n",
       "1              []         52.0   \n",
       "10             []         75.0   \n",
       "100            []         79.0   \n",
       "1000           []         90.0   \n",
       "\n",
       "                                           tmdb.similar  \\\n",
       "0     [17654, 51828, 41630, 200727, 38, 18239, 388, ...   \n",
       "1     [450794, 20575, 786, 525, 468775, 468769, 1584...   \n",
       "10    [376290, 15472, 293768, 297762, 390582, 70, 50...   \n",
       "100   [394117, 49519, 93456, 258480, 17130, 5123, 39...   \n",
       "1000  [8067, 4771, 984, 2149, 11826, 80752, 562, 284...   \n",
       "\n",
       "                                  tmdb.spoken_languages tmdb.status  \\\n",
       "0              [{'name': 'English', 'iso_639_1': 'en'}]    Released   \n",
       "1              [{'name': 'English', 'iso_639_1': 'en'}]    Released   \n",
       "10             [{'name': 'English', 'iso_639_1': 'en'}]    Released   \n",
       "100            [{'name': 'svenska', 'iso_639_1': 'sv'}]    Released   \n",
       "1000  [{'name': 'English', 'iso_639_1': 'en'}, {'nam...    Released   \n",
       "\n",
       "                             tmdb.tagline  \\\n",
       "0     The Film They Don't Want You To See   \n",
       "1                                           \n",
       "10                                          \n",
       "100                                         \n",
       "1000                                        \n",
       "\n",
       "                                     tmdb.title  tmdb.video tmdb.vote_average  \\\n",
       "0                                        Zenith         0.0               5.1   \n",
       "1     Industrial Soundtrack for the Urban Decay         0.0               7.7   \n",
       "10                               Aimy in a Cage         0.0               5.1   \n",
       "100                           Lotta Leaves Home         0.0               5.8   \n",
       "1000                               Daniel & Ana         0.0               5.9   \n",
       "\n",
       "     tmdb.vote_count  \n",
       "0                9.0  \n",
       "1                3.0  \n",
       "10               9.0  \n",
       "100              5.0  \n",
       "1000            11.0  \n",
       "\n",
       "[5 rows x 71 columns]"
      ]
     },
     "execution_count": 98,
     "metadata": {},
     "output_type": "execute_result"
    }
   ],
   "source": [
    "# quick look at the movies dataset\n",
    "data.head()"
   ]
  },
  {
   "cell_type": "markdown",
   "metadata": {},
   "source": [
    "#### All columns"
   ]
  },
  {
   "cell_type": "code",
   "execution_count": 99,
   "metadata": {
    "scrolled": true
   },
   "outputs": [
    {
     "data": {
      "text/plain": [
       "['imdb.actors',\n",
       " 'imdb.budget',\n",
       " 'imdb.budgetCurrency',\n",
       " 'imdb.color',\n",
       " 'imdb.country',\n",
       " 'imdb.coverLink',\n",
       " 'imdb.directors',\n",
       " 'imdb.genres',\n",
       " 'imdb.imdbLink',\n",
       " 'imdb.originalLanguage',\n",
       " 'imdb.productionCompanies',\n",
       " 'imdb.reviews',\n",
       " 'imdb.runtime',\n",
       " 'imdb.summaries',\n",
       " 'imdb.synopsis',\n",
       " 'imdb.writers',\n",
       " 'movielens.actors',\n",
       " 'movielens.avgRating',\n",
       " 'movielens.directors',\n",
       " 'movielens.dvdReleaseDate',\n",
       " 'movielens.genres',\n",
       " 'movielens.imdbMovieId',\n",
       " 'movielens.languages',\n",
       " 'movielens.movieId',\n",
       " 'movielens.mpaa',\n",
       " 'movielens.numRatings',\n",
       " 'movielens.originalTitle',\n",
       " 'movielens.plotSummary',\n",
       " 'movielens.posterPath',\n",
       " 'movielens.releaseDate',\n",
       " 'movielens.releaseYear',\n",
       " 'movielens.runtime',\n",
       " 'movielens.title',\n",
       " 'movielens.tmdbMovieId',\n",
       " 'movielens.youtubeTrailerIds',\n",
       " 'movielensId',\n",
       " 'tmdb.adult',\n",
       " 'tmdb.backdrop_path',\n",
       " 'tmdb.belongs_to_collection',\n",
       " 'tmdb.belongs_to_collection.backdrop_path',\n",
       " 'tmdb.belongs_to_collection.id',\n",
       " 'tmdb.belongs_to_collection.name',\n",
       " 'tmdb.belongs_to_collection.poster_path',\n",
       " 'tmdb.budget',\n",
       " 'tmdb.credits.cast',\n",
       " 'tmdb.credits.crew',\n",
       " 'tmdb.genres',\n",
       " 'tmdb.homepage',\n",
       " 'tmdb.id',\n",
       " 'tmdb.imdb_id',\n",
       " 'tmdb.keywords',\n",
       " 'tmdb.original_language',\n",
       " 'tmdb.original_title',\n",
       " 'tmdb.overview',\n",
       " 'tmdb.popularity',\n",
       " 'tmdb.poster_path',\n",
       " 'tmdb.production_companies',\n",
       " 'tmdb.production_countries',\n",
       " 'tmdb.recommendations',\n",
       " 'tmdb.release_date',\n",
       " 'tmdb.revenue',\n",
       " 'tmdb.reviews',\n",
       " 'tmdb.runtime',\n",
       " 'tmdb.similar',\n",
       " 'tmdb.spoken_languages',\n",
       " 'tmdb.status',\n",
       " 'tmdb.tagline',\n",
       " 'tmdb.title',\n",
       " 'tmdb.video',\n",
       " 'tmdb.vote_average',\n",
       " 'tmdb.vote_count']"
      ]
     },
     "execution_count": 99,
     "metadata": {},
     "output_type": "execute_result"
    }
   ],
   "source": [
    "list(data)"
   ]
  },
  {
   "cell_type": "markdown",
   "metadata": {},
   "source": [
    "#### Drop unimportant columns"
   ]
  },
  {
   "cell_type": "code",
   "execution_count": 100,
   "metadata": {},
   "outputs": [],
   "source": [
    "clean_data = data.drop(['imdb.budget', 'imdb.budgetCurrency', 'imdb.color', 'imdb.coverLink',\n",
    "                        'imdb.imdbLink', 'imdb.reviews','movielens.imdbMovieId', 'imdb.synopsis',\n",
    "                        'movielens.posterPath', 'tmdb.reviews', 'tmdb.status', 'tmdb.tagline', \n",
    "                        'tmdb.video', 'tmdb.backdrop_path', 'tmdb.belongs_to_collection', \n",
    "                        'tmdb.belongs_to_collection.backdrop_path','tmdb.belongs_to_collection.id', \n",
    "                        'tmdb.belongs_to_collection.name','tmdb.belongs_to_collection.poster_path', \n",
    "                        'movielens.dvdReleaseDate', 'movielens.mpaa','tmdb.poster_path', 'tmdb.homepage', \n",
    "                        'tmdb.revenue', 'tmdb.runtime', 'imdb.directors', 'movielens.releaseDate',\n",
    "                        'movielens.runtime', 'movielens.originalTitle','imdb.originalLanguage',  \n",
    "                        'imdb.summaries', 'tmdb.genres', 'tmdb.credits.crew','tmdb.credits.cast',\n",
    "                        'tmdb.overview','movielens.youtubeTrailerIds','imdb.country','movielens.genres',\n",
    "                        'movielens.plotSummary','tmdb.production_companies','tmdb.release_date',\n",
    "                        'movielens.actors',\n",
    "                        \n",
    "                       ], axis=1)"
   ]
  },
  {
   "cell_type": "markdown",
   "metadata": {},
   "source": [
    "#### Remove rows 403 rows with missing tmdb values"
   ]
  },
  {
   "cell_type": "code",
   "execution_count": 101,
   "metadata": {},
   "outputs": [],
   "source": [
    "clean_data = clean_data[clean_data['tmdb.adult'].notnull()]"
   ]
  },
  {
   "cell_type": "markdown",
   "metadata": {},
   "source": [
    "#### Store data in new json file"
   ]
  },
  {
   "cell_type": "code",
   "execution_count": 102,
   "metadata": {},
   "outputs": [],
   "source": [
    "clean_data.to_json(os.path.join(data_path, 'clean_data.json'))"
   ]
  },
  {
   "cell_type": "markdown",
   "metadata": {},
   "source": [
    "#### Number of remaining rows "
   ]
  },
  {
   "cell_type": "code",
   "execution_count": 149,
   "metadata": {},
   "outputs": [
    {
     "data": {
      "text/plain": [
       "24151"
      ]
     },
     "execution_count": 149,
     "metadata": {},
     "output_type": "execute_result"
    }
   ],
   "source": [
    "clean_data.shape[0]"
   ]
  },
  {
   "cell_type": "markdown",
   "metadata": {},
   "source": [
    "#### Count null fields for each column (Now there are no null fields anymore)"
   ]
  },
  {
   "cell_type": "code",
   "execution_count": 150,
   "metadata": {},
   "outputs": [
    {
     "data": {
      "text/plain": [
       "Series([], dtype: float64)"
      ]
     },
     "execution_count": 150,
     "metadata": {},
     "output_type": "execute_result"
    }
   ],
   "source": [
    "null_columns=clean_data.columns[clean_data.isnull().any()]\n",
    "clean_data[null_columns].isnull().sum()"
   ]
  },
  {
   "cell_type": "markdown",
   "metadata": {},
   "source": [
    "#### Remaining features"
   ]
  },
  {
   "cell_type": "code",
   "execution_count": 151,
   "metadata": {
    "scrolled": true
   },
   "outputs": [
    {
     "data": {
      "text/plain": [
       "['imdb.actors',\n",
       " 'imdb.genres',\n",
       " 'imdb.productionCompanies',\n",
       " 'imdb.runtime',\n",
       " 'imdb.writers',\n",
       " 'movielens.avgRating',\n",
       " 'movielens.directors',\n",
       " 'movielens.languages',\n",
       " 'movielens.movieId',\n",
       " 'movielens.numRatings',\n",
       " 'movielens.releaseYear',\n",
       " 'movielens.title',\n",
       " 'movielens.tmdbMovieId',\n",
       " 'movielensId',\n",
       " 'tmdb.adult',\n",
       " 'tmdb.budget',\n",
       " 'tmdb.id',\n",
       " 'tmdb.imdb_id',\n",
       " 'tmdb.keywords',\n",
       " 'tmdb.original_language',\n",
       " 'tmdb.original_title',\n",
       " 'tmdb.popularity',\n",
       " 'tmdb.production_countries',\n",
       " 'tmdb.recommendations',\n",
       " 'tmdb.similar',\n",
       " 'tmdb.spoken_languages',\n",
       " 'tmdb.title',\n",
       " 'tmdb.vote_average',\n",
       " 'tmdb.vote_count',\n",
       " 'Action',\n",
       " 'Adult',\n",
       " 'Adventure',\n",
       " 'Animation',\n",
       " 'Biography',\n",
       " 'Comedy',\n",
       " 'Crime',\n",
       " 'Documentary',\n",
       " 'Drama',\n",
       " 'Family',\n",
       " 'Fantasy',\n",
       " 'Film-Noir',\n",
       " 'History',\n",
       " 'Horror',\n",
       " 'Music',\n",
       " 'Musical',\n",
       " 'Mystery',\n",
       " 'News',\n",
       " 'Reality-TV',\n",
       " 'Romance',\n",
       " 'Sci-Fi',\n",
       " 'Short',\n",
       " 'Sport',\n",
       " 'Talk-Show',\n",
       " 'Thriller',\n",
       " 'War',\n",
       " 'Western',\n",
       " 'Adam Sandler',\n",
       " 'Alexandra Daddario',\n",
       " 'Amber Heard',\n",
       " 'Amy Adams',\n",
       " 'Anna Raadsveld',\n",
       " 'Anthony Hopkins',\n",
       " 'Ariadne Shaffer',\n",
       " 'Arnold Schwarzenegger',\n",
       " 'Ashley Benson',\n",
       " 'Ashley Greene',\n",
       " 'Ben Stiller',\n",
       " 'Brad Pitt',\n",
       " 'Carice van Houten',\n",
       " 'Carla Gugino',\n",
       " 'Carrie-Anne Moss',\n",
       " 'Charlize Theron',\n",
       " 'Chris Evans',\n",
       " 'Chris Hemsworth',\n",
       " 'Chris Pratt',\n",
       " 'Christian Bale',\n",
       " 'Claudia Koll',\n",
       " 'Clint Eastwood',\n",
       " 'Colin Firth',\n",
       " 'Donnie Yen',\n",
       " 'Dwayne Johnson',\n",
       " 'Edward Norton',\n",
       " 'Edwige Fenech',\n",
       " 'Emilia Clarke',\n",
       " 'Eric Roberts',\n",
       " 'Forest Whitaker',\n",
       " 'Helen Mirren',\n",
       " 'Jack Black',\n",
       " 'Jake Gyllenhaal',\n",
       " 'Jason Statham',\n",
       " 'Jennifer Aniston',\n",
       " 'Jennifer Connelly',\n",
       " 'Jeremy Renner',\n",
       " \"Jodi Lyn O'Keefe\",\n",
       " 'Johnny Depp',\n",
       " 'Jordana Brewster',\n",
       " 'Jude Law',\n",
       " 'Julianne Moore',\n",
       " 'Justin Timberlake',\n",
       " 'Kate Beckinsale',\n",
       " 'Katherine Heigl',\n",
       " 'Keanu Reeves',\n",
       " 'Kirsten Dunst',\n",
       " 'Kristen Stewart',\n",
       " 'Lacey Chabert',\n",
       " 'Leonard Nimoy',\n",
       " 'Liam Neeson',\n",
       " 'Maria Bello',\n",
       " 'Mark Hamill',\n",
       " 'Mark Ruffalo',\n",
       " 'Matthew McConaughey',\n",
       " 'Megan Fox',\n",
       " 'Michael Caine',\n",
       " 'Michael Fassbender',\n",
       " 'Michelle Monaghan',\n",
       " 'Michelle Rodriguez',\n",
       " 'Milla Jovovich',\n",
       " 'Monica Bellucci',\n",
       " 'Natalie Dormer',\n",
       " 'Nicolas Cage',\n",
       " 'Paul Walker',\n",
       " 'Rachel McAdams',\n",
       " 'Rachel Weisz',\n",
       " 'Rami Malek',\n",
       " 'Richard Gere',\n",
       " 'Robert Downey Jr.',\n",
       " 'Robin Williams',\n",
       " 'Rosamund Pike',\n",
       " 'Rose Byrne',\n",
       " 'Samuel L. Jackson',\n",
       " 'Sarah Wayne Callies',\n",
       " 'Scarlett Johansson',\n",
       " 'Selma Blair',\n",
       " 'Sharon Stone',\n",
       " 'Shia LaBeouf',\n",
       " 'Sigourney Weaver',\n",
       " 'Steven Spielberg',\n",
       " 'Sylvester Stallone',\n",
       " 'Tom Cruise',\n",
       " 'Tom Hanks',\n",
       " 'Tom Hardy',\n",
       " 'Tommy Lee Jones',\n",
       " 'Vin Diesel',\n",
       " 'Vincent Cassel',\n",
       " 'Zoe Saldana',\n",
       " 'Akira Kurosawa',\n",
       " 'Alfred Hitchcock',\n",
       " 'Arnold Schwarzenegger.1',\n",
       " 'Ben Stiller.1',\n",
       " 'Chris Evans.1',\n",
       " 'Clint Eastwood.1',\n",
       " 'Ethan Coen',\n",
       " 'Francis Ford Coppola',\n",
       " 'Jennifer Aniston.1',\n",
       " 'Joel Coen',\n",
       " 'Keanu Reeves.1',\n",
       " 'Leonard Nimoy.1',\n",
       " 'Martin Scorsese',\n",
       " 'Quentin Tarantino',\n",
       " 'Ridley Scott',\n",
       " 'Stanley Kubrick',\n",
       " 'Steven Spielberg.1',\n",
       " 'Tom Hanks.1',\n",
       " 'Tommy Lee Jones.1',\n",
       " 'Vin Diesel.1',\n",
       " '',\n",
       " '?????',\n",
       " '??????',\n",
       " 'Afrikaans',\n",
       " 'Azərbaycan',\n",
       " 'Bahasa indonesia',\n",
       " 'Bahasa melayu',\n",
       " 'Bamanankan',\n",
       " 'Bosanski',\n",
       " 'Català',\n",
       " 'Cymraeg',\n",
       " 'Dansk',\n",
       " 'Deutsch',\n",
       " 'Eesti',\n",
       " 'English',\n",
       " 'Español',\n",
       " 'Esperanto',\n",
       " 'Français',\n",
       " 'Gaeilge',\n",
       " 'Galego',\n",
       " 'Hausa',\n",
       " 'Hrvatski',\n",
       " 'Italiano',\n",
       " 'Kiswahili',\n",
       " 'Latin',\n",
       " 'Latviešu',\n",
       " 'Lietuvi\\x9akai',\n",
       " 'Magyar',\n",
       " 'Malti',\n",
       " 'Nederlands',\n",
       " 'No Language',\n",
       " 'Norsk',\n",
       " 'Polski',\n",
       " 'Português',\n",
       " 'Pусский',\n",
       " 'Română',\n",
       " 'Slovenčina',\n",
       " 'Slovenščina',\n",
       " 'Somali',\n",
       " 'Srpski',\n",
       " 'Tiếng Việt',\n",
       " 'Türkçe',\n",
       " 'Wolof',\n",
       " 'euskera',\n",
       " 'isiZulu',\n",
       " 'ozbek',\n",
       " 'shqip',\n",
       " 'suomi',\n",
       " 'svenska',\n",
       " 'Íslenska',\n",
       " 'Český',\n",
       " 'ελληνικά',\n",
       " 'Український',\n",
       " 'български език',\n",
       " 'қазақ',\n",
       " 'עִבְרִית',\n",
       " 'اردو',\n",
       " 'العربية',\n",
       " 'فارسی',\n",
       " 'پښتو',\n",
       " 'हिन्दी',\n",
       " 'বাংলা',\n",
       " 'ਪੰਜਾਬੀ',\n",
       " 'தமிழ்',\n",
       " 'తెలుగు',\n",
       " 'ภาษาไทย',\n",
       " 'ქართული',\n",
       " '广州话 / 廣州話',\n",
       " '日本語',\n",
       " '普通话',\n",
       " '한국어/조선말']"
      ]
     },
     "execution_count": 151,
     "metadata": {},
     "output_type": "execute_result"
    }
   ],
   "source": [
    "list(clean_data)"
   ]
  },
  {
   "cell_type": "markdown",
   "metadata": {},
   "source": [
    "#### Binarize nominal values"
   ]
  },
  {
   "cell_type": "code",
   "execution_count": 106,
   "metadata": {},
   "outputs": [],
   "source": [
    "def genre_one_hot(movie_dataset, column): \n",
    "    'Returns the given movie dataset with a transformed to one-hot encoded genre column.'\n",
    "\n",
    "    # MultiLabelBinarizer is a very fast solution for one hot encoding on large dataframes\n",
    "    mlb = MultiLabelBinarizer()\n",
    "    one_hot_genre = pd.DataFrame(mlb.fit_transform(movie_dataset[column]),\n",
    "                                 columns=mlb.classes_, \n",
    "                                 index=movie_dataset.index)\n",
    "\n",
    "    movie_dataset = pd.concat([movie_dataset, one_hot_genre], sort=False, axis=1)\n",
    "    movie_dataset.drop(column, axis=1)\n",
    "    \n",
    "    return movie_dataset"
   ]
  },
  {
   "cell_type": "markdown",
   "metadata": {},
   "source": [
    "#### Drop unpopoluar columns"
   ]
  },
  {
   "cell_type": "code",
   "execution_count": 107,
   "metadata": {},
   "outputs": [],
   "source": [
    "def drop_unpopular_columns(movies, start_index, popular_file, top):   \n",
    "    popular_list = pd.read_json(os.path.join(data_path, popular_file))\n",
    "    popular_list = popular_list.head(top)\n",
    "    \n",
    "    unpop_columns = movies.drop(movies.columns[:(1+start_index)], axis=1)\n",
    "    \n",
    "    #drop popular columns \n",
    "    for k, v in popular_list.iterrows():\n",
    "        if v['name'] in movies.columns: \n",
    "            unpop_columns.drop([v['name']], axis=1, inplace=True, errors=\"ignore\")\n",
    "    \n",
    "    return movies.drop(unpop_columns, axis=1)"
   ]
  },
  {
   "cell_type": "markdown",
   "metadata": {},
   "source": [
    "#### Start with binarization and removing unpopular columns"
   ]
  },
  {
   "cell_type": "code",
   "execution_count": 108,
   "metadata": {},
   "outputs": [
    {
     "name": "stdout",
     "output_type": "stream",
     "text": [
      "dimension of data:  29\n",
      "binarizing imdb.genres...\n",
      "new dimension of data:  56\n",
      "binarizing imdb.actors...\n",
      "new dimension of data:  37025\n",
      "droping unpopular actors...\n",
      "new dimension of data:  145\n",
      "binarizing imdb.directors\n",
      "new dimension of data:  15108\n",
      "droping unpopular directors...\n"
     ]
    },
    {
     "name": "stderr",
     "output_type": "stream",
     "text": [
      "C:\\Users\\bejahrer\\AppData\\Local\\Continuum\\miniconda3\\envs\\ml\\lib\\site-packages\\pandas\\core\\frame.py:3940: SettingWithCopyWarning: \n",
      "A value is trying to be set on a copy of a slice from a DataFrame\n",
      "\n",
      "See the caveats in the documentation: http://pandas.pydata.org/pandas-docs/stable/indexing.html#indexing-view-versus-copy\n",
      "  errors=errors)\n"
     ]
    },
    {
     "name": "stdout",
     "output_type": "stream",
     "text": [
      "new dimension of data:  165\n",
      "binarizing movielens.languages\n",
      "new dimension of data:  236\n"
     ]
    }
   ],
   "source": [
    "#reset index\n",
    "clean_data = clean_data.reset_index(drop=True)\n",
    "print('dimension of data: ', clean_data.shape[1])\n",
    "\n",
    "print('binarizing imdb.genres...')\n",
    "clean_data = genre_one_hot(clean_data, 'imdb.genres')\n",
    "print('new dimension of data: ', clean_data.shape[1])\n",
    "\n",
    "print('binarizing imdb.actors...')\n",
    "clean_data = genre_one_hot(clean_data, 'imdb.actors')\n",
    "print('new dimension of data: ', clean_data.shape[1])\n",
    "\n",
    "print('droping unpopular actors...')\n",
    "clean_data = drop_unpopular_columns(clean_data, clean_data.columns.get_loc('Western'), 'popular_actors.json', top=100)\n",
    "print('new dimension of data: ', clean_data.shape[1])\n",
    "\n",
    "print('binarizing imdb.directors')\n",
    "clean_data = genre_one_hot(clean_data, 'movielens.directors')\n",
    "print('new dimension of data: ', clean_data.shape[1])\n",
    "\n",
    "print('droping unpopular directors...')\n",
    "clean_data = drop_unpopular_columns(clean_data, clean_data.columns.get_loc('Zoe Saldana'), 'top_directors.json', top=10)\n",
    "print('new dimension of data: ', clean_data.shape[1])\n",
    "\n",
    "print('binarizing movielens.languages')\n",
    "clean_data = genre_one_hot(clean_data, 'movielens.languages')\n",
    "print('new dimension of data: ', clean_data.shape[1])"
   ]
  },
  {
   "cell_type": "code",
   "execution_count": 109,
   "metadata": {},
   "outputs": [
    {
     "data": {
      "text/html": [
       "<div>\n",
       "<style scoped>\n",
       "    .dataframe tbody tr th:only-of-type {\n",
       "        vertical-align: middle;\n",
       "    }\n",
       "\n",
       "    .dataframe tbody tr th {\n",
       "        vertical-align: top;\n",
       "    }\n",
       "\n",
       "    .dataframe thead th {\n",
       "        text-align: right;\n",
       "    }\n",
       "</style>\n",
       "<table border=\"1\" class=\"dataframe\">\n",
       "  <thead>\n",
       "    <tr style=\"text-align: right;\">\n",
       "      <th></th>\n",
       "      <th>imdb.actors</th>\n",
       "      <th>imdb.genres</th>\n",
       "      <th>imdb.productionCompanies</th>\n",
       "      <th>imdb.runtime</th>\n",
       "      <th>imdb.writers</th>\n",
       "      <th>movielens.avgRating</th>\n",
       "      <th>movielens.directors</th>\n",
       "      <th>movielens.languages</th>\n",
       "      <th>movielens.movieId</th>\n",
       "      <th>movielens.numRatings</th>\n",
       "      <th>...</th>\n",
       "      <th>বাংলা</th>\n",
       "      <th>ਪੰਜਾਬੀ</th>\n",
       "      <th>தமிழ்</th>\n",
       "      <th>తెలుగు</th>\n",
       "      <th>ภาษาไทย</th>\n",
       "      <th>ქართული</th>\n",
       "      <th>广州话 / 廣州話</th>\n",
       "      <th>日本語</th>\n",
       "      <th>普通话</th>\n",
       "      <th>한국어/조선말</th>\n",
       "    </tr>\n",
       "  </thead>\n",
       "  <tbody>\n",
       "    <tr>\n",
       "      <th>0</th>\n",
       "      <td>[Stars: Peter Scanavino, Jason Robards III, An...</td>\n",
       "      <td>[Sci-Fi, Thriller]</td>\n",
       "      <td>[Surla Films, Solo Films]</td>\n",
       "      <td>93</td>\n",
       "      <td>[Vladan Nikolic]</td>\n",
       "      <td>2.50000</td>\n",
       "      <td>[Vladan Nikolić]</td>\n",
       "      <td>[English]</td>\n",
       "      <td>127292</td>\n",
       "      <td>3</td>\n",
       "      <td>...</td>\n",
       "      <td>0</td>\n",
       "      <td>0</td>\n",
       "      <td>0</td>\n",
       "      <td>0</td>\n",
       "      <td>0</td>\n",
       "      <td>0</td>\n",
       "      <td>0</td>\n",
       "      <td>0</td>\n",
       "      <td>0</td>\n",
       "      <td>0</td>\n",
       "    </tr>\n",
       "    <tr>\n",
       "      <th>1</th>\n",
       "      <td>[Mark Albrow, Stefan Alt, Chris Carter]</td>\n",
       "      <td>[Documentary, History, Music]</td>\n",
       "      <td>[Amelie Ravalec, Les Films du Garage]</td>\n",
       "      <td>52</td>\n",
       "      <td>[Amélie Ravalec]</td>\n",
       "      <td>4.00000</td>\n",
       "      <td>[Travis Collins, Amélie Ravalec]</td>\n",
       "      <td>[English]</td>\n",
       "      <td>141044</td>\n",
       "      <td>1</td>\n",
       "      <td>...</td>\n",
       "      <td>0</td>\n",
       "      <td>0</td>\n",
       "      <td>0</td>\n",
       "      <td>0</td>\n",
       "      <td>0</td>\n",
       "      <td>0</td>\n",
       "      <td>0</td>\n",
       "      <td>0</td>\n",
       "      <td>0</td>\n",
       "      <td>0</td>\n",
       "    </tr>\n",
       "    <tr>\n",
       "      <th>2</th>\n",
       "      <td>[Crispin Glover, Allisyn Ashley Arm, Terry Moore]</td>\n",
       "      <td>[Drama, Fantasy, Sci-Fi, Thriller]</td>\n",
       "      <td>[Ankaboot Productions]</td>\n",
       "      <td>79</td>\n",
       "      <td>[Hooroo Jackson, Hooroo Jackson]</td>\n",
       "      <td>1.58333</td>\n",
       "      <td>[Hooroo Jackson]</td>\n",
       "      <td>[English]</td>\n",
       "      <td>150655</td>\n",
       "      <td>6</td>\n",
       "      <td>...</td>\n",
       "      <td>0</td>\n",
       "      <td>0</td>\n",
       "      <td>0</td>\n",
       "      <td>0</td>\n",
       "      <td>0</td>\n",
       "      <td>0</td>\n",
       "      <td>0</td>\n",
       "      <td>0</td>\n",
       "      <td>0</td>\n",
       "      <td>0</td>\n",
       "    </tr>\n",
       "    <tr>\n",
       "      <th>3</th>\n",
       "      <td>[Stars: Grete Havnesköld, Linn Gloppestad, Mar...</td>\n",
       "      <td>[Family]</td>\n",
       "      <td>[Svensk Filmindustri (SF), Astrid Lindgrens Vä...</td>\n",
       "      <td>83</td>\n",
       "      <td>[Astrid Lindgren, Johanna Hald]</td>\n",
       "      <td>3.25000</td>\n",
       "      <td>[Johanna Hald]</td>\n",
       "      <td>[svenska]</td>\n",
       "      <td>126745</td>\n",
       "      <td>2</td>\n",
       "      <td>...</td>\n",
       "      <td>0</td>\n",
       "      <td>0</td>\n",
       "      <td>0</td>\n",
       "      <td>0</td>\n",
       "      <td>0</td>\n",
       "      <td>0</td>\n",
       "      <td>0</td>\n",
       "      <td>0</td>\n",
       "      <td>0</td>\n",
       "      <td>0</td>\n",
       "    </tr>\n",
       "    <tr>\n",
       "      <th>4</th>\n",
       "      <td>[Dario Yazbek Bernal, Marimar Vega, José María...</td>\n",
       "      <td>[Drama, Thriller]</td>\n",
       "      <td>[Alameda Films, Blu Films, Fidecine]</td>\n",
       "      <td>90</td>\n",
       "      <td>[Michel Franco]</td>\n",
       "      <td>3.33333</td>\n",
       "      <td>[Michel Franco]</td>\n",
       "      <td>[English, Español]</td>\n",
       "      <td>152717</td>\n",
       "      <td>6</td>\n",
       "      <td>...</td>\n",
       "      <td>0</td>\n",
       "      <td>0</td>\n",
       "      <td>0</td>\n",
       "      <td>0</td>\n",
       "      <td>0</td>\n",
       "      <td>0</td>\n",
       "      <td>0</td>\n",
       "      <td>0</td>\n",
       "      <td>0</td>\n",
       "      <td>0</td>\n",
       "    </tr>\n",
       "  </tbody>\n",
       "</table>\n",
       "<p>5 rows × 236 columns</p>\n",
       "</div>"
      ],
      "text/plain": [
       "                                         imdb.actors  \\\n",
       "0  [Stars: Peter Scanavino, Jason Robards III, An...   \n",
       "1            [Mark Albrow, Stefan Alt, Chris Carter]   \n",
       "2  [Crispin Glover, Allisyn Ashley Arm, Terry Moore]   \n",
       "3  [Stars: Grete Havnesköld, Linn Gloppestad, Mar...   \n",
       "4  [Dario Yazbek Bernal, Marimar Vega, José María...   \n",
       "\n",
       "                          imdb.genres  \\\n",
       "0                  [Sci-Fi, Thriller]   \n",
       "1       [Documentary, History, Music]   \n",
       "2  [Drama, Fantasy, Sci-Fi, Thriller]   \n",
       "3                            [Family]   \n",
       "4                   [Drama, Thriller]   \n",
       "\n",
       "                            imdb.productionCompanies  imdb.runtime  \\\n",
       "0                          [Surla Films, Solo Films]            93   \n",
       "1              [Amelie Ravalec, Les Films du Garage]            52   \n",
       "2                             [Ankaboot Productions]            79   \n",
       "3  [Svensk Filmindustri (SF), Astrid Lindgrens Vä...            83   \n",
       "4               [Alameda Films, Blu Films, Fidecine]            90   \n",
       "\n",
       "                       imdb.writers  movielens.avgRating  \\\n",
       "0                  [Vladan Nikolic]              2.50000   \n",
       "1                  [Amélie Ravalec]              4.00000   \n",
       "2  [Hooroo Jackson, Hooroo Jackson]              1.58333   \n",
       "3   [Astrid Lindgren, Johanna Hald]              3.25000   \n",
       "4                   [Michel Franco]              3.33333   \n",
       "\n",
       "                movielens.directors movielens.languages  movielens.movieId  \\\n",
       "0                  [Vladan Nikolić]           [English]             127292   \n",
       "1  [Travis Collins, Amélie Ravalec]           [English]             141044   \n",
       "2                  [Hooroo Jackson]           [English]             150655   \n",
       "3                    [Johanna Hald]           [svenska]             126745   \n",
       "4                   [Michel Franco]  [English, Español]             152717   \n",
       "\n",
       "   movielens.numRatings  ... বাংলা ਪੰਜਾਬੀ  தமிழ்  తెలుగు  ภาษาไทย  ქართული  \\\n",
       "0                     3  ...     0      0      0       0        0        0   \n",
       "1                     1  ...     0      0      0       0        0        0   \n",
       "2                     6  ...     0      0      0       0        0        0   \n",
       "3                     2  ...     0      0      0       0        0        0   \n",
       "4                     6  ...     0      0      0       0        0        0   \n",
       "\n",
       "   广州话 / 廣州話 日本語 普通话 한국어/조선말  \n",
       "0          0   0   0       0  \n",
       "1          0   0   0       0  \n",
       "2          0   0   0       0  \n",
       "3          0   0   0       0  \n",
       "4          0   0   0       0  \n",
       "\n",
       "[5 rows x 236 columns]"
      ]
     },
     "execution_count": 109,
     "metadata": {},
     "output_type": "execute_result"
    }
   ],
   "source": [
    "clean_data.head()"
   ]
  },
  {
   "cell_type": "markdown",
   "metadata": {},
   "source": [
    "#### Store binarized data in csv file"
   ]
  },
  {
   "cell_type": "code",
   "execution_count": 146,
   "metadata": {},
   "outputs": [],
   "source": [
    "cols=pd.Series(clean_data.columns)\n",
    "\n",
    "for dup in cols[cols.duplicated()].unique(): \n",
    "    cols[cols[cols == dup].index.values.tolist()] = [dup + '.' + str(i) if i != 0 else dup for i in range(sum(cols == dup))]\n",
    "clean_data.columns=cols\n",
    "\n",
    "clean_data.to_json(os.path.join(data_path, 'clean_data_binarized.json'))"
   ]
  },
  {
   "cell_type": "markdown",
   "metadata": {},
   "source": [
    "## Estimate missing values with SVC Classifier (Not used for dataset just for trying)"
   ]
  },
  {
   "cell_type": "code",
   "execution_count": 40,
   "metadata": {},
   "outputs": [],
   "source": [
    "#get rows where the given attribute is null\n",
    "no_original_language = clean_data[clean_data['tmdb.original_language'].isnull()]\n",
    "has_original_language = clean_data[clean_data['tmdb.original_language'].notnull()]\n",
    "\n",
    "#remove rows with missing country value\n",
    "has_original_language = has_original_language[has_original_language['tmdb.production_countries'].notnull()]\n",
    "\n",
    "train_data = has_original_language[has_original_language.columns[40:]]\n",
    "train_label = has_original_language['tmdb.original_language']"
   ]
  },
  {
   "cell_type": "code",
   "execution_count": 35,
   "metadata": {},
   "outputs": [
    {
     "name": "stdout",
     "output_type": "stream",
     "text": [
      "24151\n",
      "24151\n"
     ]
    }
   ],
   "source": [
    "print(train_data.shape[0])\n",
    "print(train_label.shape[0])"
   ]
  },
  {
   "cell_type": "code",
   "execution_count": 42,
   "metadata": {},
   "outputs": [
    {
     "data": {
      "text/plain": [
       "SVC(C=1.0, cache_size=200, class_weight=None, coef0=0.0,\n",
       "    decision_function_shape='ovr', degree=3, gamma='scale', kernel='rbf',\n",
       "    max_iter=-1, probability=False, random_state=None, shrinking=True,\n",
       "    tol=0.001, verbose=False)"
      ]
     },
     "execution_count": 42,
     "metadata": {},
     "output_type": "execute_result"
    }
   ],
   "source": [
    "X_train, X_test, y_train, y_test = train_test_split(train_data, train_label, test_size=0.33, random_state=42)\n",
    "\n",
    "clf = svm.SVC(gamma='scale')\n",
    "clf.fit(X_train, y_train)  "
   ]
  },
  {
   "cell_type": "code",
   "execution_count": 83,
   "metadata": {},
   "outputs": [],
   "source": [
    "y_pred = clf.predict(X_test)\n",
    "res = pd.DataFrame({'actual':y_test, 'predicted':y_predict.flatten()})"
   ]
  },
  {
   "cell_type": "code",
   "execution_count": 85,
   "metadata": {},
   "outputs": [
    {
     "data": {
      "text/plain": [
       "(0.8660421890417742, 0.8744040150564617, 0.8690980590292386, None)"
      ]
     },
     "execution_count": 85,
     "metadata": {},
     "output_type": "execute_result"
    }
   ],
   "source": [
    "precision_recall_fscore_support(y_test, y_pred, average='weighted')"
   ]
  },
  {
   "cell_type": "markdown",
   "metadata": {},
   "source": [
    "#### Choose features"
   ]
  },
  {
   "cell_type": "code",
   "execution_count": 190,
   "metadata": {
    "scrolled": true
   },
   "outputs": [],
   "source": [
    "samples = data[['movielens.movieId', 'movielens.numRatings']]"
   ]
  },
  {
   "cell_type": "markdown",
   "metadata": {},
   "source": [
    "#### Create Model"
   ]
  },
  {
   "cell_type": "code",
   "execution_count": 191,
   "metadata": {},
   "outputs": [
    {
     "data": {
      "text/plain": [
       "NearestNeighbors(algorithm='auto', leaf_size=30, metric='minkowski',\n",
       "                 metric_params=None, n_jobs=None, n_neighbors=10, p=2,\n",
       "                 radius=1.0)"
      ]
     },
     "execution_count": 191,
     "metadata": {},
     "output_type": "execute_result"
    }
   ],
   "source": [
    "neigh = NearestNeighbors(10)\n",
    "neigh.fit(samples)"
   ]
  },
  {
   "cell_type": "code",
   "execution_count": 197,
   "metadata": {},
   "outputs": [
    {
     "data": {
      "text/plain": [
       "array([[20881,  4002, 21560,  3096,  8948, 17210, 19818,  3470, 17089,\n",
       "        24168]], dtype=int64)"
      ]
     },
     "execution_count": 197,
     "metadata": {},
     "output_type": "execute_result"
    }
   ],
   "source": [
    "nearest_neighbors = neigh.kneighbors([[1, 2]], 10, return_distance=False)\n",
    "nearest_neighbors"
   ]
  }
 ],
 "metadata": {
  "kernelspec": {
   "display_name": "Python 3",
   "language": "python",
   "name": "python3"
  },
  "language_info": {
   "codemirror_mode": {
    "name": "ipython",
    "version": 3
   },
   "file_extension": ".py",
   "mimetype": "text/x-python",
   "name": "python",
   "nbconvert_exporter": "python",
   "pygments_lexer": "ipython3",
   "version": "3.7.3"
  }
 },
 "nbformat": 4,
 "nbformat_minor": 2
}
